{
 "cells": [
  {
   "cell_type": "code",
   "execution_count": 1,
   "metadata": {},
   "outputs": [],
   "source": [
    "import numpy as np\n",
    "import pandas as pd\n",
    "import matplotlib.pyplot as plt\n",
    "import seaborn as sns"
   ]
  },
  {
   "cell_type": "code",
   "execution_count": 2,
   "metadata": {},
   "outputs": [],
   "source": [
    "df_airbnb = pd.read_csv('airbnb-listings.csv', delimiter=';')"
   ]
  },
  {
   "cell_type": "code",
   "execution_count": 3,
   "metadata": {},
   "outputs": [
    {
     "data": {
      "text/plain": [
       "(14780, 89)"
      ]
     },
     "execution_count": 3,
     "metadata": {},
     "output_type": "execute_result"
    }
   ],
   "source": [
    "df_airbnb.shape"
   ]
  },
  {
   "cell_type": "code",
   "execution_count": 4,
   "metadata": {},
   "outputs": [
    {
     "data": {
      "text/plain": [
       "object     53\n",
       "float64    23\n",
       "int64      13\n",
       "dtype: int64"
      ]
     },
     "execution_count": 4,
     "metadata": {},
     "output_type": "execute_result"
    }
   ],
   "source": [
    "#the most part of features are of object type, might need to split these fields to create categorical variables\n",
    "df_airbnb.dtypes.value_counts()"
   ]
  },
  {
   "cell_type": "code",
   "execution_count": 5,
   "metadata": {},
   "outputs": [
    {
     "name": "stdout",
     "output_type": "stream",
     "text": [
      "<class 'pandas.core.frame.DataFrame'>\n",
      "RangeIndex: 14780 entries, 0 to 14779\n",
      "Data columns (total 89 columns):\n",
      " #   Column                          Non-Null Count  Dtype  \n",
      "---  ------                          --------------  -----  \n",
      " 0   ID                              14780 non-null  int64  \n",
      " 1   Listing Url                     14780 non-null  object \n",
      " 2   Scrape ID                       14780 non-null  int64  \n",
      " 3   Last Scraped                    14780 non-null  object \n",
      " 4   Name                            14779 non-null  object \n",
      " 5   Summary                         14189 non-null  object \n",
      " 6   Space                           10888 non-null  object \n",
      " 7   Description                     14774 non-null  object \n",
      " 8   Experiences Offered             14780 non-null  object \n",
      " 9   Neighborhood Overview           9134 non-null   object \n",
      " 10  Notes                           5644 non-null   object \n",
      " 11  Transit                         9066 non-null   object \n",
      " 12  Access                          8318 non-null   object \n",
      " 13  Interaction                     8228 non-null   object \n",
      " 14  House Rules                     9619 non-null   object \n",
      " 15  Thumbnail Url                   11960 non-null  object \n",
      " 16  Medium Url                      11960 non-null  object \n",
      " 17  Picture Url                     14751 non-null  object \n",
      " 18  XL Picture Url                  11960 non-null  object \n",
      " 19  Host ID                         14780 non-null  int64  \n",
      " 20  Host URL                        14780 non-null  object \n",
      " 21  Host Name                       14777 non-null  object \n",
      " 22  Host Since                      14777 non-null  object \n",
      " 23  Host Location                   14737 non-null  object \n",
      " 24  Host About                      9539 non-null   object \n",
      " 25  Host Response Time              12881 non-null  object \n",
      " 26  Host Response Rate              12881 non-null  float64\n",
      " 27  Host Acceptance Rate            39 non-null     object \n",
      " 28  Host Thumbnail Url              14777 non-null  object \n",
      " 29  Host Picture Url                14777 non-null  object \n",
      " 30  Host Neighbourhood              10904 non-null  object \n",
      " 31  Host Listings Count             14777 non-null  float64\n",
      " 32  Host Total Listings Count       14777 non-null  float64\n",
      " 33  Host Verifications              14774 non-null  object \n",
      " 34  Street                          14780 non-null  object \n",
      " 35  Neighbourhood                   9551 non-null   object \n",
      " 36  Neighbourhood Cleansed          14780 non-null  object \n",
      " 37  Neighbourhood Group Cleansed    13760 non-null  object \n",
      " 38  City                            14774 non-null  object \n",
      " 39  State                           14636 non-null  object \n",
      " 40  Zipcode                         14274 non-null  object \n",
      " 41  Market                          14723 non-null  object \n",
      " 42  Smart Location                  14780 non-null  object \n",
      " 43  Country Code                    14780 non-null  object \n",
      " 44  Country                         14779 non-null  object \n",
      " 45  Latitude                        14780 non-null  float64\n",
      " 46  Longitude                       14780 non-null  float64\n",
      " 47  Property Type                   14780 non-null  object \n",
      " 48  Room Type                       14780 non-null  object \n",
      " 49  Accommodates                    14780 non-null  int64  \n",
      " 50  Bathrooms                       14725 non-null  float64\n",
      " 51  Bedrooms                        14755 non-null  float64\n",
      " 52  Beds                            14731 non-null  float64\n",
      " 53  Bed Type                        14780 non-null  object \n",
      " 54  Amenities                       14610 non-null  object \n",
      " 55  Square Feet                     598 non-null    float64\n",
      " 56  Price                           14763 non-null  float64\n",
      " 57  Weekly Price                    3590 non-null   float64\n",
      " 58  Monthly Price                   3561 non-null   float64\n",
      " 59  Security Deposit                6256 non-null   float64\n",
      " 60  Cleaning Fee                    8687 non-null   float64\n",
      " 61  Guests Included                 14780 non-null  int64  \n",
      " 62  Extra People                    14780 non-null  int64  \n",
      " 63  Minimum Nights                  14780 non-null  int64  \n",
      " 64  Maximum Nights                  14780 non-null  int64  \n",
      " 65  Calendar Updated                14780 non-null  object \n",
      " 66  Has Availability                12 non-null     object \n",
      " 67  Availability 30                 14780 non-null  int64  \n",
      " 68  Availability 60                 14780 non-null  int64  \n",
      " 69  Availability 90                 14780 non-null  int64  \n",
      " 70  Availability 365                14780 non-null  int64  \n",
      " 71  Calendar last Scraped           14780 non-null  object \n",
      " 72  Number of Reviews               14780 non-null  int64  \n",
      " 73  First Review                    11618 non-null  object \n",
      " 74  Last Review                     11617 non-null  object \n",
      " 75  Review Scores Rating            11476 non-null  float64\n",
      " 76  Review Scores Accuracy          11454 non-null  float64\n",
      " 77  Review Scores Cleanliness       11460 non-null  float64\n",
      " 78  Review Scores Checkin           11443 non-null  float64\n",
      " 79  Review Scores Communication     11460 non-null  float64\n",
      " 80  Review Scores Location          11440 non-null  float64\n",
      " 81  Review Scores Value             11439 non-null  float64\n",
      " 82  License                         349 non-null    object \n",
      " 83  Jurisdiction Names              227 non-null    object \n",
      " 84  Cancellation Policy             14780 non-null  object \n",
      " 85  Calculated host listings count  14776 non-null  float64\n",
      " 86  Reviews per Month               11618 non-null  float64\n",
      " 87  Geolocation                     14780 non-null  object \n",
      " 88  Features                        14779 non-null  object \n",
      "dtypes: float64(23), int64(13), object(53)\n",
      "memory usage: 7.0+ MB\n"
     ]
    }
   ],
   "source": [
    "#some columns might be uninformative or difficul to use\n",
    "df_airbnb.info()"
   ]
  },
  {
   "cell_type": "code",
   "execution_count": 6,
   "metadata": {},
   "outputs": [
    {
     "data": {
      "text/plain": [
       "(14780, 84)"
      ]
     },
     "execution_count": 6,
     "metadata": {},
     "output_type": "execute_result"
    }
   ],
   "source": [
    "'''Host Acceptance Rate, Square Feet,  Has Availability, Jurisdiction Names (and License but this one can be explained)\n",
    "have too many null values, it might be best to exclude these columns,\n",
    "as well as Neighbourhood column that is duplicated with Neighbourhood Cleansed.\n",
    "'''\n",
    "#keep only the relevant columns\n",
    "df_airbnb.drop(['Host Acceptance Rate', 'Square Feet', 'Has Availability', 'Jurisdiction Names', 'Neighbourhood'], axis=1, inplace=True)\n",
    "df_airbnb.shape"
   ]
  },
  {
   "cell_type": "code",
   "execution_count": 7,
   "metadata": {},
   "outputs": [
    {
     "data": {
      "text/plain": [
       "(14780, 77)"
      ]
     },
     "execution_count": 7,
     "metadata": {},
     "output_type": "execute_result"
    }
   ],
   "source": [
    "#URL columns don't seem informative either\n",
    "df_airbnb.drop(df_airbnb.filter(like='Url'), axis=1, inplace=True)\n",
    "df_airbnb.shape"
   ]
  },
  {
   "cell_type": "code",
   "execution_count": 8,
   "metadata": {},
   "outputs": [
    {
     "data": {
      "text/plain": [
       "array(['United Kingdom', 'Spain', 'United States', 'Canada',\n",
       "       'Switzerland', 'Hong Kong', 'Cuba', 'Germany', 'Belgium',\n",
       "       'Netherlands', 'Italy', 'Australia', 'Austria', 'France',\n",
       "       'Denmark', 'Ireland', 'Greece', nan], dtype=object)"
      ]
     },
     "execution_count": 8,
     "metadata": {},
     "output_type": "execute_result"
    }
   ],
   "source": [
    "#there are listings from other countries as well\n",
    "df_airbnb['Country'].unique()"
   ]
  },
  {
   "cell_type": "code",
   "execution_count": 9,
   "metadata": {},
   "outputs": [
    {
     "data": {
      "text/html": [
       "<div>\n",
       "<style scoped>\n",
       "    .dataframe tbody tr th:only-of-type {\n",
       "        vertical-align: middle;\n",
       "    }\n",
       "\n",
       "    .dataframe tbody tr th {\n",
       "        vertical-align: top;\n",
       "    }\n",
       "\n",
       "    .dataframe thead th {\n",
       "        text-align: right;\n",
       "    }\n",
       "</style>\n",
       "<table border=\"1\" class=\"dataframe\">\n",
       "  <thead>\n",
       "    <tr style=\"text-align: right;\">\n",
       "      <th></th>\n",
       "      <th>ID</th>\n",
       "      <th>Scrape ID</th>\n",
       "      <th>Last Scraped</th>\n",
       "      <th>Name</th>\n",
       "      <th>Summary</th>\n",
       "      <th>Space</th>\n",
       "      <th>Description</th>\n",
       "      <th>Experiences Offered</th>\n",
       "      <th>Neighborhood Overview</th>\n",
       "      <th>Notes</th>\n",
       "      <th>...</th>\n",
       "      <th>Review Scores Checkin</th>\n",
       "      <th>Review Scores Communication</th>\n",
       "      <th>Review Scores Location</th>\n",
       "      <th>Review Scores Value</th>\n",
       "      <th>License</th>\n",
       "      <th>Cancellation Policy</th>\n",
       "      <th>Calculated host listings count</th>\n",
       "      <th>Reviews per Month</th>\n",
       "      <th>Geolocation</th>\n",
       "      <th>Features</th>\n",
       "    </tr>\n",
       "  </thead>\n",
       "  <tbody>\n",
       "    <tr>\n",
       "      <th>14183</th>\n",
       "      <td>1553260</td>\n",
       "      <td>20170407214119</td>\n",
       "      <td>2017-04-08</td>\n",
       "      <td>¡Urgente! Busco Piso en Madrid</td>\n",
       "      <td>Hola me llamo Filomena soy Italiana tengo 24 c...</td>\n",
       "      <td>NaN</td>\n",
       "      <td>Hola me llamo Filomena soy Italiana tengo 24 c...</td>\n",
       "      <td>none</td>\n",
       "      <td>NaN</td>\n",
       "      <td>Preferiría compartir el piso con chicas amigab...</td>\n",
       "      <td>...</td>\n",
       "      <td>NaN</td>\n",
       "      <td>NaN</td>\n",
       "      <td>NaN</td>\n",
       "      <td>NaN</td>\n",
       "      <td>NaN</td>\n",
       "      <td>flexible</td>\n",
       "      <td>1.0</td>\n",
       "      <td>NaN</td>\n",
       "      <td>40.47671328643674, -3.571889701578535</td>\n",
       "      <td>Host Has Profile Pic,Is Location Exact</td>\n",
       "    </tr>\n",
       "  </tbody>\n",
       "</table>\n",
       "<p>1 rows × 77 columns</p>\n",
       "</div>"
      ],
      "text/plain": [
       "            ID       Scrape ID Last Scraped                            Name  \\\n",
       "14183  1553260  20170407214119   2017-04-08  ¡Urgente! Busco Piso en Madrid   \n",
       "\n",
       "                                                 Summary Space  \\\n",
       "14183  Hola me llamo Filomena soy Italiana tengo 24 c...   NaN   \n",
       "\n",
       "                                             Description Experiences Offered  \\\n",
       "14183  Hola me llamo Filomena soy Italiana tengo 24 c...                none   \n",
       "\n",
       "      Neighborhood Overview  \\\n",
       "14183                   NaN   \n",
       "\n",
       "                                                   Notes  ...  \\\n",
       "14183  Preferiría compartir el piso con chicas amigab...  ...   \n",
       "\n",
       "      Review Scores Checkin Review Scores Communication  \\\n",
       "14183                   NaN                         NaN   \n",
       "\n",
       "      Review Scores Location Review Scores Value  License Cancellation Policy  \\\n",
       "14183                    NaN                 NaN      NaN            flexible   \n",
       "\n",
       "      Calculated host listings count Reviews per Month  \\\n",
       "14183                            1.0               NaN   \n",
       "\n",
       "                                 Geolocation  \\\n",
       "14183  40.47671328643674, -3.571889701578535   \n",
       "\n",
       "                                     Features  \n",
       "14183  Host Has Profile Pic,Is Location Exact  \n",
       "\n",
       "[1 rows x 77 columns]"
      ]
     },
     "execution_count": 9,
     "metadata": {},
     "output_type": "execute_result"
    }
   ],
   "source": [
    "#the only entry with Null country doesn't seem relevant\n",
    "df_airbnb[df_airbnb['Country'].isna()]"
   ]
  },
  {
   "cell_type": "code",
   "execution_count": 10,
   "metadata": {},
   "outputs": [],
   "source": [
    "#include only listings for Spain\n",
    "df_airbnb_spain = df_airbnb.query(\"Country == 'Spain'\")"
   ]
  },
  {
   "cell_type": "code",
   "execution_count": 11,
   "metadata": {},
   "outputs": [
    {
     "data": {
      "text/plain": [
       "array(['Madrid', 'Palma', 'Palma de Mallorca', 'Selva',\n",
       "       'Balearic Islands', 'Sant Joan', 'Cala Pi', 'Sa Pobla', 'Muro',\n",
       "       'Alcúdia', 'Illetes', '马德里', 'Madrid, Comunidad de Madrid, ES',\n",
       "       'Barcelona', 'Santa Maria del Camí', 'Pollença', 'Bunyola',\n",
       "       'Pozuelo de Alarcón', 'Provensals', 'Deià', 'Costitx', 'Campos',\n",
       "       'Peguera, Calvià', 'Torrenova', \"Port d'Andratx\", 'Llucmajor',\n",
       "       'Sant Llorenç des Cardassar', 'Puerto ALCUDIA', 'Sóller',\n",
       "       'Valldemossa', 'Pollensa', 'Caimari', 'Inca', '馬德里',\n",
       "       'Hospitalet de Llobregat', 'Andratx', 'Binissalem',\n",
       "       'Mancor de la Vall', 'Felanitx', 'Santa Margalida',\n",
       "       'Madrid, Vallecas (Fontarrón)', 'Campanet', 'Sol de Mallorca',\n",
       "       'Sa Colònia', 'Son Veri Nou , Llucmajor', 'Delicias', 'Manacor',\n",
       "       'Pozuelo', 'Can Pastilla', 'Alaró', 'Porreres', 'Costa dels Pins',\n",
       "       'Madrid, Comunidad de Madrid, ESPANA', 'las matas  madrid',\n",
       "       'Illes Balears', 'Calvià', 'madrid', 'La Puebla', 'Llubí',\n",
       "       'Peguera', 'Delicias-Madrid', 'Onil', 'Cala Agulla',\n",
       "       'Cala Ferrera', 'Santanyí', 'Valderrodrigo', 'Algaida', nan,\n",
       "       'El Toro', 'Petra', 'Búger', 'Pina', 'Chiva', 'Son Servera',\n",
       "       'Sa Coma', 'Maioris Decima', 'Puerto Pollensa (Palma de Mallorca)',\n",
       "       'Lloret de Vistalegre', 'Playas de Muro', 'Boadilla del Monte',\n",
       "       'Binissalem-Mallorca DO', 'Pina, Mallorca', 'Sineu',\n",
       "       'Cala Santanyí', 'Port de Soller', 'Rotes Velles', 'Son Moll',\n",
       "       'Aravaca', 'San Fernando de Henares', 'Cala Murada', 'Betlem',\n",
       "       'Son Vida', 'Madid', 'Porto Cristo', 'Santa Ponsa',\n",
       "       'Comunidad de Madrid', 'San Lázaro', 'Málaga', 'La Elipa',\n",
       "       'Can Picafort', 'Centro, Madrid', 'MADRID', 'Alcudia', 'Deyá',\n",
       "       'Muro (Mallorca)', 'Sencelles', 'Madri', 'Colònia de Sant Jordi',\n",
       "       'Font de Sa Cala', 'Motilla del Palancar', 'Mal Pas-Bon Aire',\n",
       "       'Lloseta', 'Ariany', 'Port de Sóller', 'Sa Garriga',\n",
       "       'Urbanització Montferrutx', 'Aravaca (Madrid)', 'Cala Ratjada',\n",
       "       'Cala Magrana', 'Cala Anguila-Cala Mendia', 'Biniamar',\n",
       "       'Vilafranca de Bonany', 'Magaluf', 'Chueca, Madrid', 'Malaga',\n",
       "       'Chueca', 'Llucalcari', 'Ses Salines', 'Colonia de Sant Pere',\n",
       "       'villa verde bajo', 'Centro', 'Portals Nous', 'Port de Pollença',\n",
       "       'Vallgornera', 'Ventas', 'Colonia Sant Pere'], dtype=object)"
      ]
     },
     "execution_count": 11,
     "metadata": {},
     "output_type": "execute_result"
    }
   ],
   "source": [
    "#there is a mix of Madrid districts and places from other regions\n",
    "df_airbnb_spain['City'].unique()"
   ]
  },
  {
   "cell_type": "code",
   "execution_count": 12,
   "metadata": {},
   "outputs": [
    {
     "data": {
      "text/plain": [
       "array(['28005', '28013', nan, '28012', '28014', '28004', '28015', '28008',\n",
       "       '28045', '07010', '07012', '28017', '28027', '28043', '28021',\n",
       "       '07313', '28003', '28010', '07240', '07639', '28002', '28016',\n",
       "       '28036', '28039', '28020', '28046', '28029', '07011', '28028',\n",
       "       '28006', '28001', '28009', '28007', '07420', '07440', '07400',\n",
       "       '07181', '28035', '28011', '28047', '28024', '28044', '28019',\n",
       "       '28025', '28038', '28053', '28026', '28018', '28030', '28031',\n",
       "       '28051', '28052', '28032', '28037', '28022', '28042', '08009',\n",
       "       '08002', '08029', '08008', '08025', '08028', '08022', '08014',\n",
       "       '08018', '08021', '08012', '08037', '08003', '08010', '08001',\n",
       "       '08007', '08015', '08005', '07320', '07458', '28041', '28054',\n",
       "       '28058', '07001', '07006', '07149', '07008', '28034', '28050',\n",
       "       '28049', '28023', '28033', '28055', '07589', '07179', '07144',\n",
       "       '2802\\n28012', '27013', '07160', '07157', '07609', '07009',\n",
       "       '07530', '07100', '07170', '07460', '07314', '07300', '07004',\n",
       "       '07340', '07014', '28850', '08011', '08903', '28040', '07350',\n",
       "       '07312', '07200', '07630', '07450', '08024', '07310', '07459',\n",
       "       '07003', '07015', '07002', '07540', '08026', '07689', '20126',\n",
       "       '07610', '07260', '07559', '07209', '28056', '28290', '07430',\n",
       "       '28060', '2015', '27004', '03430', '07590', '08004', '08036',\n",
       "       '08013', '-', '07669', '07660', '07210', '07013', '08006', '07180',\n",
       "       '7100', '07101', '07520', '07311', '28', '07220', '0743', '07680',\n",
       "       '46370', '07550', '07193', '07470', '07518', '08031', '08019',\n",
       "       '2805', '25008', '7011', '28660', '07510', '07500', '07659',\n",
       "       '07108', '07183', '20013', '28830', '07688', '07579', '28730',\n",
       "       '29012', '07120', '08020', '28051\\n28051', '07140', '08027',\n",
       "       '280013', '28094', '28002\\n28002', '07199', '07638', '07360',\n",
       "       '2804', '07529', '08038', '07560', '2815', '07369', '07005',\n",
       "       '29230', '08016', 'Madrid 28004', '07250', '07640', '28105',\n",
       "       '07150', '28224', '28048'], dtype=object)"
      ]
     },
     "execution_count": 12,
     "metadata": {},
     "output_type": "execute_result"
    }
   ],
   "source": [
    "#let's have a look at the zipcodes\n",
    "df_airbnb_spain['Zipcode'].unique()"
   ]
  },
  {
   "cell_type": "code",
   "execution_count": 13,
   "metadata": {},
   "outputs": [
    {
     "data": {
      "text/html": [
       "<div>\n",
       "<style scoped>\n",
       "    .dataframe tbody tr th:only-of-type {\n",
       "        vertical-align: middle;\n",
       "    }\n",
       "\n",
       "    .dataframe tbody tr th {\n",
       "        vertical-align: top;\n",
       "    }\n",
       "\n",
       "    .dataframe thead th {\n",
       "        text-align: right;\n",
       "    }\n",
       "</style>\n",
       "<table border=\"1\" class=\"dataframe\">\n",
       "  <thead>\n",
       "    <tr style=\"text-align: right;\">\n",
       "      <th></th>\n",
       "      <th>Country</th>\n",
       "      <th>City</th>\n",
       "      <th>Zipcode</th>\n",
       "      <th>Neighbourhood Cleansed</th>\n",
       "    </tr>\n",
       "  </thead>\n",
       "  <tbody>\n",
       "    <tr>\n",
       "      <th>5</th>\n",
       "      <td>Spain</td>\n",
       "      <td>Madrid</td>\n",
       "      <td>NaN</td>\n",
       "      <td>Palacio</td>\n",
       "    </tr>\n",
       "    <tr>\n",
       "      <th>6</th>\n",
       "      <td>Spain</td>\n",
       "      <td>Madrid</td>\n",
       "      <td>NaN</td>\n",
       "      <td>Palacio</td>\n",
       "    </tr>\n",
       "    <tr>\n",
       "      <th>12</th>\n",
       "      <td>Spain</td>\n",
       "      <td>Madrid</td>\n",
       "      <td>NaN</td>\n",
       "      <td>Embajadores</td>\n",
       "    </tr>\n",
       "    <tr>\n",
       "      <th>34</th>\n",
       "      <td>Spain</td>\n",
       "      <td>Madrid</td>\n",
       "      <td>NaN</td>\n",
       "      <td>Embajadores</td>\n",
       "    </tr>\n",
       "    <tr>\n",
       "      <th>118</th>\n",
       "      <td>Spain</td>\n",
       "      <td>Madrid</td>\n",
       "      <td>NaN</td>\n",
       "      <td>Universidad</td>\n",
       "    </tr>\n",
       "    <tr>\n",
       "      <th>...</th>\n",
       "      <td>...</td>\n",
       "      <td>...</td>\n",
       "      <td>...</td>\n",
       "      <td>...</td>\n",
       "    </tr>\n",
       "    <tr>\n",
       "      <th>14596</th>\n",
       "      <td>Spain</td>\n",
       "      <td>Madrid</td>\n",
       "      <td>NaN</td>\n",
       "      <td>Palacio</td>\n",
       "    </tr>\n",
       "    <tr>\n",
       "      <th>14599</th>\n",
       "      <td>Spain</td>\n",
       "      <td>Madrid</td>\n",
       "      <td>NaN</td>\n",
       "      <td>Palacio</td>\n",
       "    </tr>\n",
       "    <tr>\n",
       "      <th>14614</th>\n",
       "      <td>Spain</td>\n",
       "      <td>Madrid</td>\n",
       "      <td>NaN</td>\n",
       "      <td>Palacio</td>\n",
       "    </tr>\n",
       "    <tr>\n",
       "      <th>14687</th>\n",
       "      <td>Spain</td>\n",
       "      <td>Madrid</td>\n",
       "      <td>NaN</td>\n",
       "      <td>Embajadores</td>\n",
       "    </tr>\n",
       "    <tr>\n",
       "      <th>14707</th>\n",
       "      <td>Spain</td>\n",
       "      <td>Madrid</td>\n",
       "      <td>NaN</td>\n",
       "      <td>Cortes</td>\n",
       "    </tr>\n",
       "  </tbody>\n",
       "</table>\n",
       "<p>461 rows × 4 columns</p>\n",
       "</div>"
      ],
      "text/plain": [
       "      Country    City Zipcode Neighbourhood Cleansed\n",
       "5       Spain  Madrid     NaN                Palacio\n",
       "6       Spain  Madrid     NaN                Palacio\n",
       "12      Spain  Madrid     NaN            Embajadores\n",
       "34      Spain  Madrid     NaN            Embajadores\n",
       "118     Spain  Madrid     NaN            Universidad\n",
       "...       ...     ...     ...                    ...\n",
       "14596   Spain  Madrid     NaN                Palacio\n",
       "14599   Spain  Madrid     NaN                Palacio\n",
       "14614   Spain  Madrid     NaN                Palacio\n",
       "14687   Spain  Madrid     NaN            Embajadores\n",
       "14707   Spain  Madrid     NaN                 Cortes\n",
       "\n",
       "[461 rows x 4 columns]"
      ]
     },
     "execution_count": 13,
     "metadata": {},
     "output_type": "execute_result"
    }
   ],
   "source": [
    "#Should we impute these zipcode so that now to lose 461 rows? If so, how, given that one zipcode can correspond to different districts?\n",
    "df_airbnb_spain.loc[df_airbnb_spain['Zipcode'].isna(), ['Country', 'City', 'Zipcode', 'Neighbourhood Cleansed']]"
   ]
  },
  {
   "cell_type": "code",
   "execution_count": 14,
   "metadata": {},
   "outputs": [
    {
     "name": "stderr",
     "output_type": "stream",
     "text": [
      "C:\\Software\\Anaconda\\lib\\site-packages\\pandas\\core\\indexing.py:1765: SettingWithCopyWarning: \n",
      "A value is trying to be set on a copy of a slice from a DataFrame.\n",
      "Try using .loc[row_indexer,col_indexer] = value instead\n",
      "\n",
      "See the caveats in the documentation: https://pandas.pydata.org/pandas-docs/stable/user_guide/indexing.html#returning-a-view-versus-a-copy\n",
      "  isetter(loc, value)\n"
     ]
    },
    {
     "data": {
      "text/plain": [
       "array(['Madrid', 'Palma', 'Palma de Mallorca', 'Selva',\n",
       "       'Balearic Islands', 'Sant Joan', 'Cala Pi', 'Sa Pobla', 'Muro',\n",
       "       'Alcúdia', 'Illetes', 'Barcelona', 'Santa Maria del Camí',\n",
       "       'Pollença', 'Bunyola', 'Provensals', 'Deià', 'Costitx', 'Campos',\n",
       "       'Peguera, Calvià', 'Torrenova', \"Port d'Andratx\", 'Llucmajor',\n",
       "       'Sant Llorenç des Cardassar', 'Puerto ALCUDIA', 'Sóller',\n",
       "       'Valldemossa', 'Pollensa', 'Caimari', 'Inca',\n",
       "       'Hospitalet de Llobregat', 'Andratx', 'Binissalem',\n",
       "       'Mancor de la Vall', 'Felanitx', 'Santa Margalida', 'Campanet',\n",
       "       'Sol de Mallorca', 'Sa Colònia', 'Son Veri Nou , Llucmajor',\n",
       "       'Manacor', 'Can Pastilla', 'Alaró', 'Porreres', 'Costa dels Pins',\n",
       "       'Madrid, Comunidad de Madrid, ESPANA', 'Illes Balears', 'Calvià',\n",
       "       'La Puebla', 'Llubí', 'Peguera', 'Onil', 'Cala Agulla',\n",
       "       'Cala Ferrera', 'Santanyí', 'Algaida', 'El Toro', 'Petra', 'Búger',\n",
       "       'Pina', nan, 'Chiva', 'Son Servera', 'Sa Coma', 'Maioris Decima',\n",
       "       'Puerto Pollensa (Palma de Mallorca)', 'Lloret de Vistalegre',\n",
       "       'Playas de Muro', 'Binissalem-Mallorca DO', 'Pina, Mallorca',\n",
       "       'Sineu', 'Cala Santanyí', 'Port de Soller', 'Rotes Velles',\n",
       "       'Son Moll', 'Cala Murada', 'Betlem', 'Son Vida', 'Porto Cristo',\n",
       "       'Santa Ponsa', 'Málaga', 'Can Picafort', 'Alcudia', 'Deyá',\n",
       "       'Muro (Mallorca)', 'Sencelles', 'Colònia de Sant Jordi',\n",
       "       'Font de Sa Cala', 'Mal Pas-Bon Aire', 'Lloseta', 'Ariany',\n",
       "       'Port de Sóller', 'Sa Garriga', 'Urbanització Montferrutx',\n",
       "       'Cala Ratjada', 'Cala Magrana', 'Cala Anguila-Cala Mendia',\n",
       "       'Biniamar', 'Vilafranca de Bonany', 'Magaluf', 'Malaga',\n",
       "       'Llucalcari', 'Ses Salines', 'Colonia de Sant Pere',\n",
       "       'Portals Nous', 'Port de Pollença', 'Vallgornera',\n",
       "       'Colonia Sant Pere'], dtype=object)"
      ]
     },
     "execution_count": 14,
     "metadata": {},
     "output_type": "execute_result"
    }
   ],
   "source": [
    "#Change City to Madrid for all entries with zipcode starting with 28\n",
    "df_airbnb_spain.loc[df_airbnb_spain['Zipcode'].isna(), 'Zipcode'] = 'N/A'\n",
    "df_airbnb_spain.loc[df_airbnb_spain['Zipcode'].str.contains('^28', regex=True), 'City'] = 'Madrid'\n",
    "df_airbnb_spain['City'].unique()"
   ]
  },
  {
   "cell_type": "code",
   "execution_count": 15,
   "metadata": {},
   "outputs": [
    {
     "data": {
      "text/html": [
       "<div>\n",
       "<style scoped>\n",
       "    .dataframe tbody tr th:only-of-type {\n",
       "        vertical-align: middle;\n",
       "    }\n",
       "\n",
       "    .dataframe tbody tr th {\n",
       "        vertical-align: top;\n",
       "    }\n",
       "\n",
       "    .dataframe thead th {\n",
       "        text-align: right;\n",
       "    }\n",
       "</style>\n",
       "<table border=\"1\" class=\"dataframe\">\n",
       "  <thead>\n",
       "    <tr style=\"text-align: right;\">\n",
       "      <th></th>\n",
       "      <th>City</th>\n",
       "      <th>Zipcode</th>\n",
       "    </tr>\n",
       "  </thead>\n",
       "  <tbody>\n",
       "    <tr>\n",
       "      <th>3331</th>\n",
       "      <td>Madrid, Comunidad de Madrid, ESPANA</td>\n",
       "      <td>N/A</td>\n",
       "    </tr>\n",
       "  </tbody>\n",
       "</table>\n",
       "</div>"
      ],
      "text/plain": [
       "                                     City Zipcode\n",
       "3331  Madrid, Comunidad de Madrid, ESPANA     N/A"
      ]
     },
     "execution_count": 15,
     "metadata": {},
     "output_type": "execute_result"
    }
   ],
   "source": [
    "df_airbnb_spain[['City', 'Zipcode']].query('City == \"Madrid, Comunidad de Madrid, ESPANA\"')"
   ]
  },
  {
   "cell_type": "code",
   "execution_count": 16,
   "metadata": {},
   "outputs": [
    {
     "name": "stderr",
     "output_type": "stream",
     "text": [
      "C:\\Software\\Anaconda\\lib\\site-packages\\pandas\\core\\indexing.py:1765: SettingWithCopyWarning: \n",
      "A value is trying to be set on a copy of a slice from a DataFrame.\n",
      "Try using .loc[row_indexer,col_indexer] = value instead\n",
      "\n",
      "See the caveats in the documentation: https://pandas.pydata.org/pandas-docs/stable/user_guide/indexing.html#returning-a-view-versus-a-copy\n",
      "  isetter(loc, value)\n"
     ]
    }
   ],
   "source": [
    "#Change City to Madrid for all entries starting with 'Mad'\n",
    "df_airbnb_spain.loc[df_airbnb_spain['City'].isna(), 'City'] = 'N/A'\n",
    "df_airbnb_spain.loc[df_airbnb_spain['City'].str.contains('^Mad', regex=True), 'City'] = 'Madrid'"
   ]
  },
  {
   "cell_type": "code",
   "execution_count": 17,
   "metadata": {},
   "outputs": [
    {
     "data": {
      "text/plain": [
       "(14001, 77)"
      ]
     },
     "execution_count": 17,
     "metadata": {},
     "output_type": "execute_result"
    }
   ],
   "source": [
    "df_airbnb_spain.shape"
   ]
  },
  {
   "cell_type": "code",
   "execution_count": 18,
   "metadata": {},
   "outputs": [],
   "source": [
    "#keep only listings with Madrid properties\n",
    "df_airbnb_spain = df_airbnb_spain[df_airbnb_spain['City'] == 'Madrid']"
   ]
  },
  {
   "cell_type": "code",
   "execution_count": 19,
   "metadata": {},
   "outputs": [
    {
     "data": {
      "text/plain": [
       "array(['2017-04-08'], dtype=object)"
      ]
     },
     "execution_count": 19,
     "metadata": {},
     "output_type": "execute_result"
    }
   ],
   "source": [
    "#there is ony one scrape date for Madrid  properties\n",
    "df_airbnb_spain['Last Scraped'].unique()"
   ]
  },
  {
   "cell_type": "code",
   "execution_count": 20,
   "metadata": {},
   "outputs": [
    {
     "data": {
      "text/plain": [
       "array([2014., 2011., 2013., 2012., 2015., 2016., 2017., 2010.,   nan,\n",
       "       2009.])"
      ]
     },
     "execution_count": 20,
     "metadata": {},
     "output_type": "execute_result"
    }
   ],
   "source": [
    "#See what years there are more new hosts? New commercial hosts?\n",
    "pd.to_datetime(df_airbnb_spain['Host Since']).dt.year.unique()"
   ]
  },
  {
   "cell_type": "code",
   "execution_count": 21,
   "metadata": {},
   "outputs": [
    {
     "data": {
      "text/plain": [
       "3    Host Has Profile Pic,Host Identity Verified,Is...\n",
       "4    Host Has Profile Pic,Host Identity Verified,Is...\n",
       "5    Host Has Profile Pic,Host Identity Verified,Is...\n",
       "6    Host Is Superhost,Host Has Profile Pic,Host Id...\n",
       "7    Host Is Superhost,Host Has Profile Pic,Host Id...\n",
       "Name: Features, dtype: object"
      ]
     },
     "execution_count": 21,
     "metadata": {},
     "output_type": "execute_result"
    }
   ],
   "source": [
    "#Divide into different columns for additional features?\n",
    "df_airbnb_spain['Features'].head()"
   ]
  },
  {
   "cell_type": "code",
   "execution_count": 22,
   "metadata": {},
   "outputs": [
    {
     "data": {
      "text/plain": [
       "13324"
      ]
     },
     "execution_count": 22,
     "metadata": {},
     "output_type": "execute_result"
    }
   ],
   "source": [
    "#Do all hosts write about themselves?\n",
    "df_airbnb_spain['Host About'].isna().count()"
   ]
  },
  {
   "cell_type": "code",
   "execution_count": 23,
   "metadata": {},
   "outputs": [
    {
     "data": {
      "text/plain": [
       "array(['Wireless Internet,Kitchen,Smoking allowed,Heating,Washer,Smoke detector,Essentials,Shampoo,Hangers,Iron,Laptop friendly workspace',\n",
       "       'TV,Wireless Internet,Kitchen,Heating,Family/kid friendly,Washer,Dryer,Smoke detector,Carbon monoxide detector,Essentials,Hangers,Hair dryer,Iron,Laptop friendly workspace',\n",
       "       'TV,Wireless Internet,Kitchen,Heating,Family/kid friendly,Smoke detector,Essentials,Shampoo,Hangers,Hair dryer,Iron,Laptop friendly workspace',\n",
       "       ...,\n",
       "       'TV,Cable TV,Internet,Wireless Internet,Air conditioning,Wheelchair accessible,Kitchen,Doorman,Breakfast,Elevator in building,Buzzer/wireless intercom,Heating,Family/kid friendly,Washer,Dryer,Smoke detector,Carbon monoxide detector,Essentials,Shampoo,24-hour check-in,Hangers,Hair dryer,Iron,Laptop friendly workspace,Self Check-In,Keypad',\n",
       "       'TV,Internet,Wireless Internet,Kitchen,Smoking allowed,Pets allowed,Buzzer/wireless intercom,Heating,Family/kid friendly,Washer,First aid kit,24-hour check-in,Hangers,Laptop friendly workspace',\n",
       "       'TV,Internet,Wireless Internet,Kitchen,Family/kid friendly,Washer,Essentials,translation missing: en.hosting_amenity_50'],\n",
       "      dtype=object)"
      ]
     },
     "execution_count": 23,
     "metadata": {},
     "output_type": "execute_result"
    }
   ],
   "source": [
    "#Divide into different columns for additional features?\n",
    "df_airbnb['Amenities'].unique()"
   ]
  },
  {
   "cell_type": "code",
   "execution_count": 24,
   "metadata": {},
   "outputs": [
    {
     "data": {
      "text/plain": [
       "<AxesSubplot:xlabel='Room Type', ylabel='Availability 30'>"
      ]
     },
     "execution_count": 24,
     "metadata": {},
     "output_type": "execute_result"
    },
    {
     "data": {
      "image/png": "[encoded data removed]",
      "text/plain": [
       "<Figure size 432x288 with 1 Axes>"
      ]
     },
     "metadata": {
      "needs_background": "light"
     },
     "output_type": "display_data"
    }
   ],
   "source": [
    "sns.boxplot(data=df_airbnb_spain, y='Availability 30', x='Room Type')"
   ]
  },
  {
   "cell_type": "code",
   "execution_count": 25,
   "metadata": {},
   "outputs": [
    {
     "data": {
      "text/plain": [
       "<AxesSubplot:xlabel='Room Type', ylabel='Availability 60'>"
      ]
     },
     "execution_count": 25,
     "metadata": {},
     "output_type": "execute_result"
    },
    {
     "data": {
      "image/png": "[encoded data removed]",
      "text/plain": [
       "<Figure size 432x288 with 1 Axes>"
      ]
     },
     "metadata": {
      "needs_background": "light"
     },
     "output_type": "display_data"
    }
   ],
   "source": [
    "sns.boxplot(data=df_airbnb_spain, y='Availability 60', x='Room Type')"
   ]
  },
  {
   "cell_type": "code",
   "execution_count": 26,
   "metadata": {},
   "outputs": [
    {
     "data": {
      "text/plain": [
       "<AxesSubplot:xlabel='Room Type', ylabel='Availability 90'>"
      ]
     },
     "execution_count": 26,
     "metadata": {},
     "output_type": "execute_result"
    },
    {
     "data": {
      "image/png": "[encoded data removed]",
      "text/plain": [
       "<Figure size 432x288 with 1 Axes>"
      ]
     },
     "metadata": {
      "needs_background": "light"
     },
     "output_type": "display_data"
    }
   ],
   "source": [
    "sns.boxplot(data=df_airbnb_spain, y='Availability 90', x='Room Type')"
   ]
  },
  {
   "cell_type": "code",
   "execution_count": 27,
   "metadata": {},
   "outputs": [
    {
     "data": {
      "text/plain": [
       "<AxesSubplot:xlabel='Room Type', ylabel='Availability 365'>"
      ]
     },
     "execution_count": 27,
     "metadata": {},
     "output_type": "execute_result"
    },
    {
     "data": {
      "image/png": "[encoded data removed]",
      "text/plain": [
       "<Figure size 432x288 with 1 Axes>"
      ]
     },
     "metadata": {
      "needs_background": "light"
     },
     "output_type": "display_data"
    }
   ],
   "source": [
    "sns.boxplot(data=df_airbnb_spain, y='Availability 365', x='Room Type')"
   ]
  },
  {
   "cell_type": "code",
   "execution_count": 28,
   "metadata": {},
   "outputs": [
    {
     "data": {
      "text/plain": [
       "count    13324.000000\n",
       "mean         3.011333\n",
       "std         12.834126\n",
       "min          1.000000\n",
       "25%          1.000000\n",
       "50%          2.000000\n",
       "75%          3.000000\n",
       "max       1125.000000\n",
       "Name: Minimum Nights, dtype: float64"
      ]
     },
     "execution_count": 28,
     "metadata": {},
     "output_type": "execute_result"
    }
   ],
   "source": [
    "#there is a clear outlier in Minimum Nights\n",
    "df_airbnb_spain['Minimum Nights'].describe()"
   ]
  },
  {
   "cell_type": "code",
   "execution_count": 29,
   "metadata": {},
   "outputs": [],
   "source": [
    "mask_nights = df_airbnb_spain['Minimum Nights'] < 60"
   ]
  },
  {
   "cell_type": "code",
   "execution_count": 30,
   "metadata": {},
   "outputs": [
    {
     "data": {
      "text/plain": [
       "<AxesSubplot:xlabel='Minimum Nights', ylabel='Count'>"
      ]
     },
     "execution_count": 30,
     "metadata": {},
     "output_type": "execute_result"
    },
    {
     "data": {
      "image/png": "[encoded data removed]",
      "text/plain": [
       "<Figure size 432x288 with 1 Axes>"
      ]
     },
     "metadata": {
      "needs_background": "light"
     },
     "output_type": "display_data"
    }
   ],
   "source": [
    "sns.histplot(data=df_airbnb_spain[mask_nights], x='Minimum Nights',binwidth=1)"
   ]
  },
  {
   "cell_type": "code",
   "execution_count": 31,
   "metadata": {},
   "outputs": [
    {
     "data": {
      "text/plain": [
       "count      13324.000000\n",
       "mean         959.616782\n",
       "std         8886.784566\n",
       "min            1.000000\n",
       "25%          365.000000\n",
       "50%         1125.000000\n",
       "75%         1125.000000\n",
       "max      1000000.000000\n",
       "Name: Maximum Nights, dtype: float64"
      ]
     },
     "execution_count": 31,
     "metadata": {},
     "output_type": "execute_result"
    }
   ],
   "source": [
    "df_airbnb_spain['Maximum Nights'].describe()"
   ]
  },
  {
   "cell_type": "code",
   "execution_count": 32,
   "metadata": {},
   "outputs": [],
   "source": [
    "mask_max_nights = df_airbnb_spain['Maximum Nights'] < 1125"
   ]
  },
  {
   "cell_type": "code",
   "execution_count": 33,
   "metadata": {},
   "outputs": [
    {
     "data": {
      "text/plain": [
       "<AxesSubplot:xlabel='Maximum Nights', ylabel='Count'>"
      ]
     },
     "execution_count": 33,
     "metadata": {},
     "output_type": "execute_result"
    },
    {
     "data": {
      "image/png": "[encoded data removed]",
      "text/plain": [
       "<Figure size 432x288 with 1 Axes>"
      ]
     },
     "metadata": {
      "needs_background": "light"
     },
     "output_type": "display_data"
    }
   ],
   "source": [
    "sns.histplot(data=df_airbnb_spain[mask_max_nights], x='Maximum Nights',binwidth=20)"
   ]
  },
  {
   "cell_type": "code",
   "execution_count": 34,
   "metadata": {},
   "outputs": [
    {
     "data": {
      "text/html": [
       "<div>\n",
       "<style scoped>\n",
       "    .dataframe tbody tr th:only-of-type {\n",
       "        vertical-align: middle;\n",
       "    }\n",
       "\n",
       "    .dataframe tbody tr th {\n",
       "        vertical-align: top;\n",
       "    }\n",
       "\n",
       "    .dataframe thead th {\n",
       "        text-align: right;\n",
       "    }\n",
       "</style>\n",
       "<table border=\"1\" class=\"dataframe\">\n",
       "  <thead>\n",
       "    <tr style=\"text-align: right;\">\n",
       "      <th></th>\n",
       "      <th>Price</th>\n",
       "      <th>Host Response Rate</th>\n",
       "      <th>Host Total Listings Count</th>\n",
       "      <th>Review Scores Rating</th>\n",
       "    </tr>\n",
       "  </thead>\n",
       "  <tbody>\n",
       "    <tr>\n",
       "      <th>Price</th>\n",
       "      <td>1.000000</td>\n",
       "      <td>-0.009487</td>\n",
       "      <td>0.164517</td>\n",
       "      <td>0.056179</td>\n",
       "    </tr>\n",
       "    <tr>\n",
       "      <th>Host Response Rate</th>\n",
       "      <td>-0.009487</td>\n",
       "      <td>1.000000</td>\n",
       "      <td>-0.043204</td>\n",
       "      <td>0.097537</td>\n",
       "    </tr>\n",
       "    <tr>\n",
       "      <th>Host Total Listings Count</th>\n",
       "      <td>0.164517</td>\n",
       "      <td>-0.043204</td>\n",
       "      <td>1.000000</td>\n",
       "      <td>-0.171131</td>\n",
       "    </tr>\n",
       "    <tr>\n",
       "      <th>Review Scores Rating</th>\n",
       "      <td>0.056179</td>\n",
       "      <td>0.097537</td>\n",
       "      <td>-0.171131</td>\n",
       "      <td>1.000000</td>\n",
       "    </tr>\n",
       "  </tbody>\n",
       "</table>\n",
       "</div>"
      ],
      "text/plain": [
       "                              Price  Host Response Rate  \\\n",
       "Price                      1.000000           -0.009487   \n",
       "Host Response Rate        -0.009487            1.000000   \n",
       "Host Total Listings Count  0.164517           -0.043204   \n",
       "Review Scores Rating       0.056179            0.097537   \n",
       "\n",
       "                           Host Total Listings Count  Review Scores Rating  \n",
       "Price                                       0.164517              0.056179  \n",
       "Host Response Rate                         -0.043204              0.097537  \n",
       "Host Total Listings Count                   1.000000             -0.171131  \n",
       "Review Scores Rating                       -0.171131              1.000000  "
      ]
     },
     "execution_count": 34,
     "metadata": {},
     "output_type": "execute_result"
    }
   ],
   "source": [
    "df_airbnb_spain[['Price', 'Host Since', 'Host Response Rate', 'Host Total Listings Count', 'Review Scores Rating']].corr()"
   ]
  },
  {
   "cell_type": "code",
   "execution_count": 35,
   "metadata": {},
   "outputs": [
    {
     "data": {
      "text/plain": [
       "<AxesSubplot:xlabel='Host Total Listings Count', ylabel='Price'>"
      ]
     },
     "execution_count": 35,
     "metadata": {},
     "output_type": "execute_result"
    },
    {
     "data": {
      "image/png": "[encoded data removed]",
      "text/plain": [
       "<Figure size 432x288 with 1 Axes>"
      ]
     },
     "metadata": {
      "needs_background": "light"
     },
     "output_type": "display_data"
    }
   ],
   "source": [
    "sns.scatterplot(data=df_airbnb_spain, y='Price', x='Host Total Listings Count')"
   ]
  },
  {
   "cell_type": "code",
   "execution_count": 36,
   "metadata": {},
   "outputs": [
    {
     "data": {
      "text/plain": [
       "<AxesSubplot:xlabel='Room Type', ylabel='Price'>"
      ]
     },
     "execution_count": 36,
     "metadata": {},
     "output_type": "execute_result"
    },
    {
     "data": {
      "image/png": "[encoded data removed]",
      "text/plain": [
       "<Figure size 432x288 with 1 Axes>"
      ]
     },
     "metadata": {
      "needs_background": "light"
     },
     "output_type": "display_data"
    }
   ],
   "source": [
    "sns.barplot(data=df_airbnb_spain, y='Price', x='Room Type')"
   ]
  },
  {
   "cell_type": "code",
   "execution_count": 37,
   "metadata": {},
   "outputs": [
    {
     "data": {
      "image/png": "[encoded data removed]",
      "text/plain": [
       "<Figure size 432x288 with 1 Axes>"
      ]
     },
     "metadata": {
      "needs_background": "light"
     },
     "output_type": "display_data"
    }
   ],
   "source": [
    "sns.barplot(data=df_airbnb_spain, y='Price', x='Neighbourhood Group Cleansed')\n",
    "plt.xticks(rotation=90)\n",
    "plt.show()"
   ]
  },
  {
   "cell_type": "code",
   "execution_count": 39,
   "metadata": {},
   "outputs": [
    {
     "data": {
      "text/plain": [
       "array(['2017-04-08'], dtype=object)"
      ]
     },
     "execution_count": 39,
     "metadata": {},
     "output_type": "execute_result"
    }
   ],
   "source": [
    "df_airbnb_spain['Last Scraped'].unique()"
   ]
  }
 ],
 "metadata": {
  "kernelspec": {
   "display_name": "Python 3",
   "language": "python",
   "name": "python3"
  },
  "language_info": {
   "codemirror_mode": {
    "name": "ipython",
    "version": 3
   },
   "file_extension": ".py",
   "mimetype": "text/x-python",
   "name": "python",
   "nbconvert_exporter": "python",
   "pygments_lexer": "ipython3",
   "version": "3.8.5"
  }
 },
 "nbformat": 4,
 "nbformat_minor": 4
}
