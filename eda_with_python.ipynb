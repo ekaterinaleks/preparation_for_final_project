{
 "cells": [
  {
   "cell_type": "code",
   "execution_count": 1,
   "metadata": {},
   "outputs": [],
   "source": [
    "import pandas as pd\n",
    "import numpy as np\n",
    "import matplotlib.pyplot as plt\n",
    "import seaborn as sns\n",
    "pd.options.mode.chained_assignment = None\n",
    "import datetime"
   ]
  },
  {
   "cell_type": "code",
   "execution_count": 2,
   "metadata": {},
   "outputs": [],
   "source": [
    "df_listings = pd.read_csv('airbnb_clean.csv')"
   ]
  },
  {
   "cell_type": "code",
   "execution_count": 3,
   "metadata": {},
   "outputs": [
    {
     "data": {
      "text/plain": [
       "92"
      ]
     },
     "execution_count": 3,
     "metadata": {},
     "output_type": "execute_result"
    }
   ],
   "source": [
    "len(list(df_listings.columns))"
   ]
  },
  {
   "cell_type": "markdown",
   "metadata": {},
   "source": [
    "At the moment we have 93 columns."
   ]
  },
  {
   "cell_type": "code",
   "execution_count": 4,
   "metadata": {},
   "outputs": [
    {
     "data": {
      "text/html": [
       "<div>\n",
       "<style scoped>\n",
       "    .dataframe tbody tr th:only-of-type {\n",
       "        vertical-align: middle;\n",
       "    }\n",
       "\n",
       "    .dataframe tbody tr th {\n",
       "        vertical-align: top;\n",
       "    }\n",
       "\n",
       "    .dataframe thead th {\n",
       "        text-align: right;\n",
       "    }\n",
       "</style>\n",
       "<table border=\"1\" class=\"dataframe\">\n",
       "  <thead>\n",
       "    <tr style=\"text-align: right;\">\n",
       "      <th></th>\n",
       "      <th>ID</th>\n",
       "      <th>Name</th>\n",
       "      <th>Summary</th>\n",
       "      <th>Space</th>\n",
       "      <th>Description</th>\n",
       "      <th>Neighborhood.Overview</th>\n",
       "      <th>Notes</th>\n",
       "      <th>Transit</th>\n",
       "      <th>Access</th>\n",
       "      <th>Interaction</th>\n",
       "      <th>...</th>\n",
       "      <th>Fire extinguisher</th>\n",
       "      <th>24-hour check-in</th>\n",
       "      <th>Smoking allowed</th>\n",
       "      <th>Wheelchair accessible</th>\n",
       "      <th>Safety card</th>\n",
       "      <th>Host Has Profile Pic</th>\n",
       "      <th>Host Identity Verified</th>\n",
       "      <th>Is Location Exact</th>\n",
       "      <th>Instant Bookable</th>\n",
       "      <th>Host Is Superhost</th>\n",
       "    </tr>\n",
       "  </thead>\n",
       "  <tbody>\n",
       "    <tr>\n",
       "      <th>0</th>\n",
       "      <td>3150371</td>\n",
       "      <td>Double room + bathroom - La Latina</td>\n",
       "      <td>Double room with own bathroom in La Latina, in...</td>\n",
       "      <td>The apartment is spacious and cozy. It is 90 m...</td>\n",
       "      <td>Double room with own bathroom in La Latina, in...</td>\n",
       "      <td>La Latina is one of the most famous neighbourh...</td>\n",
       "      <td>NaN</td>\n",
       "      <td>The closest tube station is La Latina (line 5 ...</td>\n",
       "      <td>You can use the kitchen, the lounge, the terra...</td>\n",
       "      <td>The bedrooms are totally separated: one at one...</td>\n",
       "      <td>...</td>\n",
       "      <td>False</td>\n",
       "      <td>False</td>\n",
       "      <td>False</td>\n",
       "      <td>False</td>\n",
       "      <td>False</td>\n",
       "      <td>True</td>\n",
       "      <td>True</td>\n",
       "      <td>True</td>\n",
       "      <td>False</td>\n",
       "      <td>False</td>\n",
       "    </tr>\n",
       "    <tr>\n",
       "      <th>1</th>\n",
       "      <td>3378181</td>\n",
       "      <td>Ópera/Plz Mayor -- A/C, elevator</td>\n",
       "      <td>Old world charm meets modern comfort in our ne...</td>\n",
       "      <td>Designed with the traveler in mind, our one-be...</td>\n",
       "      <td>Old world charm meets modern comfort in our ne...</td>\n",
       "      <td>The neighborhood is steeped in history and clo...</td>\n",
       "      <td>NaN</td>\n",
       "      <td>The apartment is close to the Ópera metro stat...</td>\n",
       "      <td>The entire apartment is yours.</td>\n",
       "      <td>We are always available to answer questions an...</td>\n",
       "      <td>...</td>\n",
       "      <td>False</td>\n",
       "      <td>False</td>\n",
       "      <td>False</td>\n",
       "      <td>False</td>\n",
       "      <td>False</td>\n",
       "      <td>True</td>\n",
       "      <td>True</td>\n",
       "      <td>True</td>\n",
       "      <td>True</td>\n",
       "      <td>False</td>\n",
       "    </tr>\n",
       "    <tr>\n",
       "      <th>2</th>\n",
       "      <td>2070750</td>\n",
       "      <td>Centric room with a balcony</td>\n",
       "      <td>Lominous room for rent in the heart of the old...</td>\n",
       "      <td>Lominous room for rent in the heart of the old...</td>\n",
       "      <td>Lominous room for rent in the heart of the old...</td>\n",
       "      <td>-</td>\n",
       "      <td>-</td>\n",
       "      <td>-</td>\n",
       "      <td>-</td>\n",
       "      <td>-</td>\n",
       "      <td>...</td>\n",
       "      <td>False</td>\n",
       "      <td>False</td>\n",
       "      <td>False</td>\n",
       "      <td>False</td>\n",
       "      <td>False</td>\n",
       "      <td>True</td>\n",
       "      <td>True</td>\n",
       "      <td>True</td>\n",
       "      <td>False</td>\n",
       "      <td>False</td>\n",
       "    </tr>\n",
       "  </tbody>\n",
       "</table>\n",
       "<p>3 rows × 92 columns</p>\n",
       "</div>"
      ],
      "text/plain": [
       "        ID                                Name  \\\n",
       "0  3150371  Double room + bathroom - La Latina   \n",
       "1  3378181    Ópera/Plz Mayor -- A/C, elevator   \n",
       "2  2070750         Centric room with a balcony   \n",
       "\n",
       "                                             Summary  \\\n",
       "0  Double room with own bathroom in La Latina, in...   \n",
       "1  Old world charm meets modern comfort in our ne...   \n",
       "2  Lominous room for rent in the heart of the old...   \n",
       "\n",
       "                                               Space  \\\n",
       "0  The apartment is spacious and cozy. It is 90 m...   \n",
       "1  Designed with the traveler in mind, our one-be...   \n",
       "2  Lominous room for rent in the heart of the old...   \n",
       "\n",
       "                                         Description  \\\n",
       "0  Double room with own bathroom in La Latina, in...   \n",
       "1  Old world charm meets modern comfort in our ne...   \n",
       "2  Lominous room for rent in the heart of the old...   \n",
       "\n",
       "                               Neighborhood.Overview Notes  \\\n",
       "0  La Latina is one of the most famous neighbourh...   NaN   \n",
       "1  The neighborhood is steeped in history and clo...   NaN   \n",
       "2                                                  -     -   \n",
       "\n",
       "                                             Transit  \\\n",
       "0  The closest tube station is La Latina (line 5 ...   \n",
       "1  The apartment is close to the Ópera metro stat...   \n",
       "2                                                  -   \n",
       "\n",
       "                                              Access  \\\n",
       "0  You can use the kitchen, the lounge, the terra...   \n",
       "1                     The entire apartment is yours.   \n",
       "2                                                  -   \n",
       "\n",
       "                                         Interaction  ... Fire extinguisher  \\\n",
       "0  The bedrooms are totally separated: one at one...  ...             False   \n",
       "1  We are always available to answer questions an...  ...             False   \n",
       "2                                                  -  ...             False   \n",
       "\n",
       "   24-hour check-in Smoking allowed Wheelchair accessible Safety card  \\\n",
       "0             False           False                 False       False   \n",
       "1             False           False                 False       False   \n",
       "2             False           False                 False       False   \n",
       "\n",
       "  Host Has Profile Pic Host Identity Verified  Is Location Exact  \\\n",
       "0                 True                   True               True   \n",
       "1                 True                   True               True   \n",
       "2                 True                   True               True   \n",
       "\n",
       "   Instant Bookable Host Is Superhost  \n",
       "0             False             False  \n",
       "1              True             False  \n",
       "2             False             False  \n",
       "\n",
       "[3 rows x 92 columns]"
      ]
     },
     "execution_count": 4,
     "metadata": {},
     "output_type": "execute_result"
    }
   ],
   "source": [
    "df_listings.head(3)"
   ]
  },
  {
   "cell_type": "markdown",
   "metadata": {},
   "source": [
    "## Object-type columns"
   ]
  },
  {
   "cell_type": "markdown",
   "metadata": {},
   "source": [
    "Let's have a look at the columns with text. Which can be used as categorical variables and which should be transformed in order to be used in further analysis? Are there any columns with too many nulls to be useful?"
   ]
  },
  {
   "cell_type": "code",
   "execution_count": 5,
   "metadata": {},
   "outputs": [
    {
     "data": {
      "text/plain": [
       "Name                               0\n",
       "Summary                          485\n",
       "Space                           3621\n",
       "Description                        6\n",
       "Neighborhood.Overview           5008\n",
       "Notes                           8279\n",
       "Transit                         5052\n",
       "Access                          5770\n",
       "Interaction                     5794\n",
       "House.Rules                     4656\n",
       "Host.Name                          3\n",
       "Host.Since                         3\n",
       "Host.Location                     42\n",
       "Host.About                      5051\n",
       "Host.Response.Time              1702\n",
       "Host.Verifications                 5\n",
       "Street                          4589\n",
       "Neighbourhood.Cleansed             0\n",
       "Neighbourhood.Group.Cleansed       0\n",
       "Property.Type                      0\n",
       "Room.Type                          0\n",
       "Bed.Type                           0\n",
       "Calendar.Updated                   0\n",
       "First.Review                    2773\n",
       "Last.Review                     2774\n",
       "Cancellation.Policy                0\n",
       "dtype: int64"
      ]
     },
     "execution_count": 5,
     "metadata": {},
     "output_type": "execute_result"
    }
   ],
   "source": [
    "df_listings.select_dtypes(include='object').isna().sum()"
   ]
  },
  {
   "cell_type": "markdown",
   "metadata": {},
   "source": [
    "In Notes column more than a half of values are nulls. Given this and the complementary character of the column (see the dataset description), this column can be excluded."
   ]
  },
  {
   "cell_type": "code",
   "execution_count": 6,
   "metadata": {},
   "outputs": [],
   "source": [
    "#drop the Notes column\n",
    "df_listings.drop('Notes', axis=1, inplace=True)"
   ]
  },
  {
   "cell_type": "code",
   "execution_count": 7,
   "metadata": {},
   "outputs": [
    {
     "data": {
      "text/plain": [
       "array(['Palacio', nan, 'Malasaña', 'Embajadores', 'La Latina', 'Cortes',\n",
       "       'Justicia', 'Sol', 'Acacias', 'Arganzuela', 'Ciudad Lineal',\n",
       "       'Hortaleza', 'Villaverde', 'Arapiles', 'Trafalgar', 'Almagro',\n",
       "       'La Chopera', 'Legazpi', 'Palos do Moguer', 'Prosperidad',\n",
       "       'Hispanoamérica', 'Nueva España', 'Castilla', 'Bellas Vistas',\n",
       "       'Cuatro Caminos', 'Valdeacederas', 'Gaztambide', 'Guindalera',\n",
       "       'Lista', 'Castellana', 'El Viso', 'Recoletos', 'Goya',\n",
       "       'Fuente del Berro', 'Pacifico', 'Adelfas', 'Ibiza', 'Jerónimos',\n",
       "       'Rios Rosas', 'Argüelles', 'Aluche', 'Carabanchel',\n",
       "       'Puente de Vallecas', 'Moratalaz', 'Villa de Vallecas',\n",
       "       'Vicálvaro', 'San Blas', 'Delicias', 'Barajas', 'Estrella',\n",
       "       'Usera', 'Fuencarral-El Pardo', 'Moncloa', 'Castillejos',\n",
       "       'Vallehermosa', 'Almenara', 'Berruguete', 'Chamberí', 'Imperial',\n",
       "       'Atocha', 'Retiro', 'Ciudad Jardin', 'El Tréntaiseis',\n",
       "       'Pozuelo de Alarcón', 'Tetuán', 'Centro', 'Valderrodrigo',\n",
       "       'Pozuelo', 'Aravaca ', 'La Elipa', 'Motilla del Palancar',\n",
       "       'Chueca', 'villa verde bajo', 'Ventas'], dtype=object)"
      ]
     },
     "execution_count": 7,
     "metadata": {},
     "output_type": "execute_result"
    }
   ],
   "source": [
    "df_listings.Street.unique()"
   ]
  },
  {
   "cell_type": "markdown",
   "metadata": {},
   "source": [
    "The Street columns appears to be just another column with Neighbourhoods, but will a lot of null values. Given that we already have Neighbourhood.Cleansed & Neighbourhood.Group.Cleansed, the Street column can be omitted."
   ]
  },
  {
   "cell_type": "code",
   "execution_count": 8,
   "metadata": {},
   "outputs": [],
   "source": [
    "df_listings.drop('Street', axis=1, inplace=True)"
   ]
  },
  {
   "cell_type": "code",
   "execution_count": 9,
   "metadata": {},
   "outputs": [
    {
     "data": {
      "text/html": [
       "<div>\n",
       "<style scoped>\n",
       "    .dataframe tbody tr th:only-of-type {\n",
       "        vertical-align: middle;\n",
       "    }\n",
       "\n",
       "    .dataframe tbody tr th {\n",
       "        vertical-align: top;\n",
       "    }\n",
       "\n",
       "    .dataframe thead th {\n",
       "        text-align: right;\n",
       "    }\n",
       "</style>\n",
       "<table border=\"1\" class=\"dataframe\">\n",
       "  <thead>\n",
       "    <tr style=\"text-align: right;\">\n",
       "      <th></th>\n",
       "      <th>Name</th>\n",
       "      <th>Summary</th>\n",
       "      <th>Space</th>\n",
       "      <th>Description</th>\n",
       "      <th>Neighborhood.Overview</th>\n",
       "      <th>Transit</th>\n",
       "      <th>Access</th>\n",
       "      <th>Interaction</th>\n",
       "      <th>House.Rules</th>\n",
       "      <th>Host.Name</th>\n",
       "      <th>...</th>\n",
       "      <th>Host.Verifications</th>\n",
       "      <th>Neighbourhood.Cleansed</th>\n",
       "      <th>Neighbourhood.Group.Cleansed</th>\n",
       "      <th>Property.Type</th>\n",
       "      <th>Room.Type</th>\n",
       "      <th>Bed.Type</th>\n",
       "      <th>Calendar.Updated</th>\n",
       "      <th>First.Review</th>\n",
       "      <th>Last.Review</th>\n",
       "      <th>Cancellation.Policy</th>\n",
       "    </tr>\n",
       "  </thead>\n",
       "  <tbody>\n",
       "    <tr>\n",
       "      <th>0</th>\n",
       "      <td>Double room + bathroom - La Latina</td>\n",
       "      <td>Double room with own bathroom in La Latina, in...</td>\n",
       "      <td>The apartment is spacious and cozy. It is 90 m...</td>\n",
       "      <td>Double room with own bathroom in La Latina, in...</td>\n",
       "      <td>La Latina is one of the most famous neighbourh...</td>\n",
       "      <td>The closest tube station is La Latina (line 5 ...</td>\n",
       "      <td>You can use the kitchen, the lounge, the terra...</td>\n",
       "      <td>The bedrooms are totally separated: one at one...</td>\n",
       "      <td>Care and respect are both required in the comm...</td>\n",
       "      <td>Daniel Y Ximena</td>\n",
       "      <td>...</td>\n",
       "      <td>email,phone,reviews,jumio</td>\n",
       "      <td>Palacio</td>\n",
       "      <td>Centro</td>\n",
       "      <td>Apartment</td>\n",
       "      <td>Private room</td>\n",
       "      <td>Real Bed</td>\n",
       "      <td>4 days ago</td>\n",
       "      <td>2014-06-15</td>\n",
       "      <td>2017-04-01</td>\n",
       "      <td>flexible</td>\n",
       "    </tr>\n",
       "    <tr>\n",
       "      <th>1</th>\n",
       "      <td>Ópera/Plz Mayor -- A/C, elevator</td>\n",
       "      <td>Old world charm meets modern comfort in our ne...</td>\n",
       "      <td>Designed with the traveler in mind, our one-be...</td>\n",
       "      <td>Old world charm meets modern comfort in our ne...</td>\n",
       "      <td>The neighborhood is steeped in history and clo...</td>\n",
       "      <td>The apartment is close to the Ópera metro stat...</td>\n",
       "      <td>The entire apartment is yours.</td>\n",
       "      <td>We are always available to answer questions an...</td>\n",
       "      <td>The Golden Rule shall apply always :) The apar...</td>\n",
       "      <td>Michael</td>\n",
       "      <td>...</td>\n",
       "      <td>email,phone,facebook,reviews,jumio,work_email</td>\n",
       "      <td>Palacio</td>\n",
       "      <td>Centro</td>\n",
       "      <td>Apartment</td>\n",
       "      <td>Entire home/apt</td>\n",
       "      <td>Real Bed</td>\n",
       "      <td>5 days ago</td>\n",
       "      <td>2014-07-09</td>\n",
       "      <td>2017-02-28</td>\n",
       "      <td>strict</td>\n",
       "    </tr>\n",
       "    <tr>\n",
       "      <th>2</th>\n",
       "      <td>Centric room with a balcony</td>\n",
       "      <td>Lominous room for rent in the heart of the old...</td>\n",
       "      <td>Lominous room for rent in the heart of the old...</td>\n",
       "      <td>Lominous room for rent in the heart of the old...</td>\n",
       "      <td>-</td>\n",
       "      <td>-</td>\n",
       "      <td>-</td>\n",
       "      <td>-</td>\n",
       "      <td>-</td>\n",
       "      <td>Sergio</td>\n",
       "      <td>...</td>\n",
       "      <td>email,phone,reviews,jumio</td>\n",
       "      <td>Palacio</td>\n",
       "      <td>Centro</td>\n",
       "      <td>Apartment</td>\n",
       "      <td>Private room</td>\n",
       "      <td>Real Bed</td>\n",
       "      <td>4 days ago</td>\n",
       "      <td>2014-07-22</td>\n",
       "      <td>2017-03-07</td>\n",
       "      <td>flexible</td>\n",
       "    </tr>\n",
       "  </tbody>\n",
       "</table>\n",
       "<p>3 rows × 24 columns</p>\n",
       "</div>"
      ],
      "text/plain": [
       "                                 Name  \\\n",
       "0  Double room + bathroom - La Latina   \n",
       "1    Ópera/Plz Mayor -- A/C, elevator   \n",
       "2         Centric room with a balcony   \n",
       "\n",
       "                                             Summary  \\\n",
       "0  Double room with own bathroom in La Latina, in...   \n",
       "1  Old world charm meets modern comfort in our ne...   \n",
       "2  Lominous room for rent in the heart of the old...   \n",
       "\n",
       "                                               Space  \\\n",
       "0  The apartment is spacious and cozy. It is 90 m...   \n",
       "1  Designed with the traveler in mind, our one-be...   \n",
       "2  Lominous room for rent in the heart of the old...   \n",
       "\n",
       "                                         Description  \\\n",
       "0  Double room with own bathroom in La Latina, in...   \n",
       "1  Old world charm meets modern comfort in our ne...   \n",
       "2  Lominous room for rent in the heart of the old...   \n",
       "\n",
       "                               Neighborhood.Overview  \\\n",
       "0  La Latina is one of the most famous neighbourh...   \n",
       "1  The neighborhood is steeped in history and clo...   \n",
       "2                                                  -   \n",
       "\n",
       "                                             Transit  \\\n",
       "0  The closest tube station is La Latina (line 5 ...   \n",
       "1  The apartment is close to the Ópera metro stat...   \n",
       "2                                                  -   \n",
       "\n",
       "                                              Access  \\\n",
       "0  You can use the kitchen, the lounge, the terra...   \n",
       "1                     The entire apartment is yours.   \n",
       "2                                                  -   \n",
       "\n",
       "                                         Interaction  \\\n",
       "0  The bedrooms are totally separated: one at one...   \n",
       "1  We are always available to answer questions an...   \n",
       "2                                                  -   \n",
       "\n",
       "                                         House.Rules        Host.Name  ...  \\\n",
       "0  Care and respect are both required in the comm...  Daniel Y Ximena  ...   \n",
       "1  The Golden Rule shall apply always :) The apar...          Michael  ...   \n",
       "2                                                  -           Sergio  ...   \n",
       "\n",
       "                              Host.Verifications Neighbourhood.Cleansed  \\\n",
       "0                      email,phone,reviews,jumio                Palacio   \n",
       "1  email,phone,facebook,reviews,jumio,work_email                Palacio   \n",
       "2                      email,phone,reviews,jumio                Palacio   \n",
       "\n",
       "  Neighbourhood.Group.Cleansed Property.Type        Room.Type  Bed.Type  \\\n",
       "0                       Centro     Apartment     Private room  Real Bed   \n",
       "1                       Centro     Apartment  Entire home/apt  Real Bed   \n",
       "2                       Centro     Apartment     Private room  Real Bed   \n",
       "\n",
       "  Calendar.Updated First.Review Last.Review Cancellation.Policy  \n",
       "0       4 days ago   2014-06-15  2017-04-01            flexible  \n",
       "1       5 days ago   2014-07-09  2017-02-28              strict  \n",
       "2       4 days ago   2014-07-22  2017-03-07            flexible  \n",
       "\n",
       "[3 rows x 24 columns]"
      ]
     },
     "execution_count": 9,
     "metadata": {},
     "output_type": "execute_result"
    }
   ],
   "source": [
    "df_listings.select_dtypes(include='object').head(3)"
   ]
  },
  {
   "cell_type": "markdown",
   "metadata": {},
   "source": [
    "The columns Summary, Space, Description, Neighborhood.Overview, Transit, Access, Interaction, House.Rules and Host.About are all text columns that cannot be converted to categorical variables. One way to use them in our analysis could be to count the length of each description and see if lengthy texts have an impact on listing's popularity and price. However, having 9 numerical features for text columns can be a bit, so let's combine listing description columns Summary and Description into a columns with number of words, and create two other True/False columns for house rules and host description."
   ]
  },
  {
   "cell_type": "code",
   "execution_count": 10,
   "metadata": {},
   "outputs": [],
   "source": [
    "col_list = ['Summary', 'Description']\n",
    "for i in col_list:\n",
    "    df_listings[i+'.Length'] = 0\n",
    "    for index, value in df_listings[i].items():\n",
    "        #count the length of each non null description\n",
    "        if type(value) == str:\n",
    "               df_listings[i+'.Length'][index] = len(value.split())\n",
    "        #impute null and non text values with zeros because null here means that the description is missing\n",
    "        else:\n",
    "            df_listings[i+'.Length'][index] = 0\n",
    "    #cast the column as integer\n",
    "    df_listings[i +'.Length'] = df_listings[i +'.Length'].astype('int32')\n",
    "#drop the original text columns\n",
    "df_listings.drop(col_list, axis=1, inplace=True)"
   ]
  },
  {
   "cell_type": "code",
   "execution_count": 11,
   "metadata": {},
   "outputs": [
    {
     "data": {
      "text/html": [
       "<div>\n",
       "<style scoped>\n",
       "    .dataframe tbody tr th:only-of-type {\n",
       "        vertical-align: middle;\n",
       "    }\n",
       "\n",
       "    .dataframe tbody tr th {\n",
       "        vertical-align: top;\n",
       "    }\n",
       "\n",
       "    .dataframe thead th {\n",
       "        text-align: right;\n",
       "    }\n",
       "</style>\n",
       "<table border=\"1\" class=\"dataframe\">\n",
       "  <thead>\n",
       "    <tr style=\"text-align: right;\">\n",
       "      <th></th>\n",
       "      <th>Listing.Description.Length</th>\n",
       "      <th>House.Rules</th>\n",
       "      <th>Host.About</th>\n",
       "    </tr>\n",
       "  </thead>\n",
       "  <tbody>\n",
       "    <tr>\n",
       "      <th>0</th>\n",
       "      <td>199</td>\n",
       "      <td>False</td>\n",
       "      <td>False</td>\n",
       "    </tr>\n",
       "    <tr>\n",
       "      <th>1</th>\n",
       "      <td>186</td>\n",
       "      <td>False</td>\n",
       "      <td>False</td>\n",
       "    </tr>\n",
       "    <tr>\n",
       "      <th>2</th>\n",
       "      <td>134</td>\n",
       "      <td>False</td>\n",
       "      <td>False</td>\n",
       "    </tr>\n",
       "  </tbody>\n",
       "</table>\n",
       "</div>"
      ],
      "text/plain": [
       "   Listing.Description.Length  House.Rules  Host.About\n",
       "0                         199        False       False\n",
       "1                         186        False       False\n",
       "2                         134        False       False"
      ]
     },
     "execution_count": 11,
     "metadata": {},
     "output_type": "execute_result"
    }
   ],
   "source": [
    "#combine 7 features that add to the listing's description\n",
    "df_listings['Listing.Description.Length'] = df_listings['Summary.Length'] + df_listings['Description.Length']\n",
    "#convert Host.About and House.Rules to True/False\n",
    "df_listings['House.Rules'] = df_listings['House.Rules'].isna()\n",
    "df_listings['Host.About'] = df_listings['Host.About'].isna()\n",
    "#drop the original columns\n",
    "df_listings.drop(['Summary.Length', 'Space', 'Description.Length', 'Neighborhood.Overview',\n",
    "                  'Transit', 'Access', 'Interaction'], axis=1, inplace=True)\n",
    "df_listings[['Listing.Description.Length', 'House.Rules', 'Host.About']].head(3)"
   ]
  },
  {
   "cell_type": "markdown",
   "metadata": {},
   "source": [
    "Let's have a look at the Name column and its length as well."
   ]
  },
  {
   "cell_type": "code",
   "execution_count": 12,
   "metadata": {},
   "outputs": [
    {
     "data": {
      "text/plain": [
       "75"
      ]
     },
     "execution_count": 12,
     "metadata": {},
     "output_type": "execute_result"
    }
   ],
   "source": [
    "df_listings['Name'].str.len().max()"
   ]
  },
  {
   "cell_type": "markdown",
   "metadata": {},
   "source": [
    "**A name consisting of 75 words seems to be a bit too lengthy and uninformative for our analysis. It can be truncated to, for example, 40 characters.**"
   ]
  },
  {
   "cell_type": "code",
   "execution_count": 13,
   "metadata": {},
   "outputs": [
    {
     "data": {
      "text/plain": [
       "0     Double room + bathroom - La Latina…\n",
       "1       Ópera/Plz Mayor -- A/C, elevator…\n",
       "2            Centric room with a balcony…\n",
       "3    PLAZA DE ESPAÑA - Único - Gimnasio.…\n",
       "4      Loft/duplex 150m2, 3 double rooms…\n",
       "Name: Name, dtype: object"
      ]
     },
     "execution_count": 13,
     "metadata": {},
     "output_type": "execute_result"
    }
   ],
   "source": [
    "df_listings['Name'] = df_listings['Name'].str[0:40] + '…'\n",
    "df_listings['Name'].head()"
   ]
  },
  {
   "cell_type": "markdown",
   "metadata": {},
   "source": [
    "The First.Review and Last.Review columns are not relevant for our analysis and can be dropped."
   ]
  },
  {
   "cell_type": "code",
   "execution_count": 14,
   "metadata": {},
   "outputs": [],
   "source": [
    "df_listings.drop(['First.Review', 'Last.Review'], axis=1, inplace=True)"
   ]
  },
  {
   "cell_type": "code",
   "execution_count": 15,
   "metadata": {},
   "outputs": [
    {
     "data": {
      "text/plain": [
       "Index(['ID', 'Name', 'House.Rules', 'Host.ID', 'Host.Name', 'Host.Since',\n",
       "       'Host.Location', 'Host.About', 'Host.Response.Time',\n",
       "       'Host.Response.Rate', 'Host.Listings.Count', 'Host.Verifications',\n",
       "       'Neighbourhood.Cleansed', 'Neighbourhood.Group.Cleansed', 'Zipcode',\n",
       "       'Latitude', 'Longitude', 'Property.Type', 'Room.Type', 'Accommodates',\n",
       "       'Bathrooms', 'Bedrooms', 'Beds', 'Bed.Type', 'Price', 'Weekly.Price',\n",
       "       'Monthly.Price', 'Security.Deposit', 'Cleaning.Fee', 'Guests.Included',\n",
       "       'Extra.People', 'Minimum.Nights', 'Maximum.Nights', 'Calendar.Updated',\n",
       "       'Availability.30', 'Availability.60', 'Availability.90',\n",
       "       'Availability.365', 'Number.of.Reviews', 'Review.Scores.Rating',\n",
       "       'Review.Scores.Accuracy', 'Review.Scores.Cleanliness',\n",
       "       'Review.Scores.Checkin', 'Review.Scores.Communication',\n",
       "       'Review.Scores.Location', 'Review.Scores.Value', 'Cancellation.Policy',\n",
       "       'Reviews.per.Month', 'TV', 'Internet', 'Wireless Internet', 'Kitchen',\n",
       "       'Doorman', 'Elevator in building', 'Buzzer/wireless intercom',\n",
       "       'Heating', 'Washer', 'Essentials', 'Shampoo', 'Hangers',\n",
       "       'Air conditioning', 'Breakfast', 'Family/kid friendly', 'Dryer',\n",
       "       'Hair dryer', 'Iron', 'Laptop friendly workspace', 'Pets allowed',\n",
       "       'Smoke detector', 'Carbon monoxide detector', 'First aid kit',\n",
       "       'Fire extinguisher', '24-hour check-in', 'Smoking allowed',\n",
       "       'Wheelchair accessible', 'Safety card', 'Host Has Profile Pic',\n",
       "       'Host Identity Verified', 'Is Location Exact', 'Instant Bookable',\n",
       "       'Host Is Superhost', 'Listing.Description.Length'],\n",
       "      dtype='object')"
      ]
     },
     "execution_count": 15,
     "metadata": {},
     "output_type": "execute_result"
    }
   ],
   "source": [
    "df_listings.columns"
   ]
  },
  {
   "cell_type": "markdown",
   "metadata": {},
   "source": [
    "We could calculate each host's tenure in relation to the last scrape date."
   ]
  },
  {
   "cell_type": "code",
   "execution_count": 16,
   "metadata": {},
   "outputs": [],
   "source": [
    "#convert Host.Since to datetime\n",
    "df_listings['Host.Since'] = pd.to_datetime(df_listings['Host.Since'], format='%Y-%m-%d')"
   ]
  },
  {
   "cell_type": "code",
   "execution_count": 17,
   "metadata": {},
   "outputs": [],
   "source": [
    "#create a datetima variable with the last scrapping date\n",
    "last_scraped = datetime.datetime.strptime('2017-04-08', '%Y-%m-%d')"
   ]
  },
  {
   "cell_type": "code",
   "execution_count": 18,
   "metadata": {},
   "outputs": [],
   "source": [
    "#create a column with host's tenure\n",
    "df_listings['Host.Tenure'] = last_scraped - df_listings['Host.Since']\n",
    "#drop the original column\n",
    "df_listings.drop('Host.Since', axis=1, inplace=True)"
   ]
  },
  {
   "cell_type": "code",
   "execution_count": 19,
   "metadata": {},
   "outputs": [
    {
     "data": {
      "text/plain": [
       "0   1160 days\n",
       "1   2097 days\n",
       "2   1389 days\n",
       "3   1901 days\n",
       "4   1255 days\n",
       "Name: Host.Tenure, dtype: timedelta64[ns]"
      ]
     },
     "execution_count": 19,
     "metadata": {},
     "output_type": "execute_result"
    }
   ],
   "source": [
    "df_listings['Host.Tenure'].head()"
   ]
  },
  {
   "cell_type": "code",
   "execution_count": 20,
   "metadata": {},
   "outputs": [
    {
     "data": {
      "text/plain": [
       "array(['4 days ago', '5 days ago', 'today', '4 weeks ago', 'a week ago',\n",
       "       '2 months ago', '2 weeks ago', '6 days ago', '3 weeks ago',\n",
       "       'never', '6 months ago', 'yesterday', '1 week ago', '6 weeks ago',\n",
       "       '10 months ago', '5 weeks ago', '7 months ago', '3 days ago',\n",
       "       '17 months ago', '13 months ago', '11 months ago', '3 months ago',\n",
       "       '22 months ago', '18 months ago', '5 months ago', '4 months ago',\n",
       "       '8 months ago', '20 months ago', '2 days ago', '16 months ago',\n",
       "       '14 months ago', '24 months ago', '7 weeks ago', '19 months ago',\n",
       "       '15 months ago', '12 months ago', '48 months ago', '9 months ago',\n",
       "       '21 months ago', '30 months ago', '26 months ago', '29 months ago',\n",
       "       '23 months ago', '34 months ago', '51 months ago', '25 months ago',\n",
       "       '45 months ago', '31 months ago', '35 months ago', '33 months ago',\n",
       "       '28 months ago', '27 months ago', '37 months ago', '57 months ago',\n",
       "       '58 months ago', '52 months ago', '50 months ago'], dtype=object)"
      ]
     },
     "execution_count": 20,
     "metadata": {},
     "output_type": "execute_result"
    }
   ],
   "source": [
    "df_listings['Calendar.Updated'].unique()"
   ]
  },
  {
   "cell_type": "markdown",
   "metadata": {},
   "source": [
    "An interval value might be more informative for the Calendar.Updated column. We can calculate the integer values for days elapsed between the last calendar update and the scrapping. The value \"never\" might pose a problem."
   ]
  },
  {
   "cell_type": "code",
   "execution_count": 21,
   "metadata": {},
   "outputs": [],
   "source": [
    "#create a new column with period since last calendar update in days\n",
    "df_listings['Days.from.Cal.Update'] = 0\n",
    "for  index, value in df_listings['Calendar.Updated'].items():\n",
    "    if 'days ago' in value:\n",
    "        df_listings['Days.from.Cal.Update'][index] = int(value.split()[0])\n",
    "    elif 'weeks ago' in value:\n",
    "        df_listings['Days.from.Cal.Update'][index] = int(value.split()[0]) * 7\n",
    "    elif 'months ago' in value:\n",
    "        df_listings['Days.from.Cal.Update'][index] = int(value.split()[0]) * 30\n",
    "    elif value == 'today':\n",
    "        df_listings['Days.from.Cal.Update'][index] = 0\n",
    "    elif value == 'yesterday':\n",
    "        df_listings['Days.from.Cal.Update'][index] = 1\n",
    "    elif value == 'never':\n",
    "        df_listings['Days.from.Cal.Update'][index] = df_listings['Days.from.Cal.Update'].max()\n",
    "#drop the original Calendar.Updated column\n",
    "df_listings.drop('Calendar.Updated', axis=1, inplace=True)"
   ]
  },
  {
   "cell_type": "code",
   "execution_count": 22,
   "metadata": {},
   "outputs": [
    {
     "data": {
      "text/plain": [
       "0                        email,phone,reviews,jumio\n",
       "1    email,phone,facebook,reviews,jumio,work_email\n",
       "2                        email,phone,reviews,jumio\n",
       "3    email,phone,facebook,reviews,jumio,work_email\n",
       "4                        email,phone,reviews,jumio\n",
       "Name: Host.Verifications, dtype: object"
      ]
     },
     "execution_count": 22,
     "metadata": {},
     "output_type": "execute_result"
    }
   ],
   "source": [
    "df_listings['Host.Verifications'].head()"
   ]
  },
  {
   "cell_type": "markdown",
   "metadata": {},
   "source": [
    "The column Host.Verifications is not informative as it is. A more interesting feature would be the number of different verifications for each host."
   ]
  },
  {
   "cell_type": "code",
   "execution_count": 23,
   "metadata": {},
   "outputs": [],
   "source": [
    "#impute null values in Host.Verifications column with zeros\n",
    "df_listings.loc[df_listings['Host.Verifications'].isna(), 'Host.Verifications'] = 0"
   ]
  },
  {
   "cell_type": "code",
   "execution_count": 24,
   "metadata": {},
   "outputs": [],
   "source": [
    "#add a new column 'N.of.Host.Verifications with the count of host's verifications\n",
    "df_listings['N.of.Host.Verifications'] = 0\n",
    "for index, value in df_listings['Host.Verifications'].items():\n",
    "    if value == 0:\n",
    "        df_listings['N.of.Host.Verifications'][index] = 0\n",
    "    else:\n",
    "        df_listings['N.of.Host.Verifications'][index] = len(value.split(','))\n",
    "#drop the original Host.Verifications column\n",
    "df_listings.drop('Host.Verifications', axis=1, inplace=True)"
   ]
  },
  {
   "cell_type": "markdown",
   "metadata": {},
   "source": [
    "Let's have a look at the hosts' location."
   ]
  },
  {
   "cell_type": "code",
   "execution_count": 25,
   "metadata": {},
   "outputs": [
    {
     "data": {
      "text/plain": [
       "array(['Madrid, Community of Madrid, Spain', 'Madrid, Madrid, Spain',\n",
       "       'Region of Murcia, Spain',\n",
       "       'Majadahonda, Community of Madrid, Spain', 'ES',\n",
       "       'Vitoria-Gasteiz, Basque Country, Spain',\n",
       "       'Paris, Île-de-France, France', 'Granada, Andalusia, Spain',\n",
       "       'San Martín de la Vega, Comunidad de Madrid, Spain',\n",
       "       'Madrid, SP, Spain', 'Cluj-Napoca, Cluj County, Romania',\n",
       "       'Alcobendas, Community of Madrid, Spain',\n",
       "       'Galapagar, Comunidad de Madrid, Spain', 'US', 'Spain',\n",
       "       'Cartagena, Región de Murcia, Spain',\n",
       "       'Las Rozas, Community of Madrid, Spain',\n",
       "       'Boadilla del Monte, Comunidad de Madrid, Spain',\n",
       "       'Sydney, New South Wales, Australia',\n",
       "       'Santiago, Santiago Metropolitan Region, Chile',\n",
       "       'Martínez, Buenos Aires Province, Argentina', 'Switzerland',\n",
       "       'Santa Coloma de Gramenet, Catalunya, Spain',\n",
       "       'El Molar, Comunidad de Madrid, Spain', 'Deutschland',\n",
       "       'Las Palmas de Gran Canaria, Canary Islands, Spain',\n",
       "       'Pozuelo de Alarcón, Comunidad de Madrid, Spain', 'IT',\n",
       "       'Burgos, Castilla y León, Spain', 'Community of Madrid, Spain',\n",
       "       'Guadalajara, Castilla-La Mancha, Spain',\n",
       "       'Sucy-en-Brie, Île-de-France, France',\n",
       "       'Rivas-Vaciamadrid, Comunidad de Madrid, Spain',\n",
       "       'Taipei City, Taiwan', 'Majadahonda, Comunidad de Madrid, Spain',\n",
       "       'Vivo en Madrid, en el mismo piso que ofrezco, pero es muy grande, quizá nos divisemos en el salón.',\n",
       "       'ESPAÑA', 'Bilbao, Basque Country, Spain',\n",
       "       'Seville, Andalusia, Spain',\n",
       "       'Philadelphia, Pennsylvania, United States',\n",
       "       'Los Angeles, California, United States',\n",
       "       'Warsaw, Masovian Voivodeship, Poland', 'Moscow, Moscow, Russia',\n",
       "       'CN', 'San Juan, San Juan, Puerto Rico',\n",
       "       'Amsterdam, North Holland, Netherlands',\n",
       "       'Mahon, Balearic Islands, Spain',\n",
       "       'Barranquilla, Atlantico, Colombia',\n",
       "       'Villanueva del Pardillo, Community of Madrid, Spain',\n",
       "       'Argentina, Castilla y León, Spain',\n",
       "       'Puerto La Cruz, Anzoategui, Venezuela', 'VE',\n",
       "       'Pinto, Comunidad de Madrid, Spain',\n",
       "       'Alocén, Castilla-La Mancha, Spain', 'España',\n",
       "       'Boston, Massachusetts, United States',\n",
       "       'Torrelodones, Community of Madrid, Spain',\n",
       "       'Barcelona, Catalonia, Spain',\n",
       "       'Santa Cruz de la Palma, Canary Islands, Spain',\n",
       "       'Móstoles, Community of Madrid, Spain',\n",
       "       'Prague, Prague, Czech Republic', 'Paris, Ile-de-France, France',\n",
       "       'PH', 'Torino, Piedmont, Italy', 'Berlin, Berlin, Germany',\n",
       "       'Miami, Florida, United States',\n",
       "       'Parque Coimbra, Comunidad de Madrid, Spain',\n",
       "       'Valencia, Valencian Community, Spain',\n",
       "       'Villanueva de San Mancio, Castilla y León, Spain',\n",
       "       'Cotos de Monterrey, Comunidad de Madrid, Spain',\n",
       "       'El Prat de Llobregat, Catalonia, Spain', 'Haro, La Rioja, Spain',\n",
       "       'Almería, Andalusia, Spain', 'Mechelen, Flanders, Belgium',\n",
       "       'New York, New York, United States', 'Toronto, Ontario, Canada',\n",
       "       'Rome, Lazio, Italy', 'Córdoba, Andalusia, Spain', 'Singapore',\n",
       "       'Lugo, Galicia, Spain', 'Alcobendas, Comunidad de Madrid, Spain',\n",
       "       'Milan, Lombardy, Italy', 'Guillermo Rolland, 5-4º Ext.Iz.',\n",
       "       'Calle Gomes de Mora n6 4planta derecha.',\n",
       "       'Colombia/ España/ Italia', 'Sanya, Hainan, China',\n",
       "       'Segovia, Castile and León, Spain', 'Málaga, Andalusia, Spain',\n",
       "       'Pozuelo de Alarcón, Madrid, Spain', 'Marbella, Andalucía, Spain',\n",
       "       'Pamplona, Navarre, Spain', 'Palencia, Castilla y León, Spain',\n",
       "       'La Plata, Buenos Aires Province, Argentina',\n",
       "       'City of Brussels, Brussels, Belgium',\n",
       "       'La Tablada, Buenos Aires Province, Argentina', 'FR',\n",
       "       'Fuentes, Castilla-La Mancha, Spain',\n",
       "       'Leganés, Community of Madrid, Spain', nan, 'C/Monederos 5 BajoB',\n",
       "       'Santander, Cantabria, Spain', 'France',\n",
       "       'São Paulo, State of São Paulo, Brazil', 'DE',\n",
       "       'Edinburgh, Scotland, United Kingdom',\n",
       "       'Geneva, Geneva, Switzerland',\n",
       "       'Arroyomolinos, Comunidad de Madrid, Spain',\n",
       "       'Gold Coast, Queensland', 'London, England, United Kingdom',\n",
       "       'Pozuelo, Community of Madrid, Spain',\n",
       "       'Ibiza, Balearic Islands, Spain',\n",
       "       'Alhaurín de la Torre, Andalusia, Spain',\n",
       "       'Brussels, Brussels, Belgium',\n",
       "       'Amsterdam, Noord-Holland, The Netherlands',\n",
       "       'Madrid, Caraga, Philippines', 'Alcoi, Valencian Community, Spain',\n",
       "       'Villanueva del Pardillo, Comunidad de Madrid, Spain',\n",
       "       'A Coruña, Galicia, Spain',\n",
       "       'Newport News, Virginia, United States',\n",
       "       'Sevilla, Andalucía, Spain', 'Xàtiva, Valencia, Spain',\n",
       "       'Casco Histórico De Calarcá, Quindio, Colombia',\n",
       "       'Reykjavík, Capital Region, Iceland', 'Florence, Tuscany, Italy',\n",
       "       'United Kingdom', 'Nuremberg, Bavaria, Germany',\n",
       "       'Tres Cantos, Community of Madrid, Spain',\n",
       "       'Miami Shores, Florida, United States',\n",
       "       'Cordova, Andalucía, Spain', 'Salamanca, Castile and León, Spain',\n",
       "       'El Berrueco, Comunidad de Madrid, Spain',\n",
       "       'calle quintana n2 10pta6',\n",
       "       'Pozuelo de Alarcón, Community of Madrid, Spain', 'GB',\n",
       "       'Boadilla del Monte', 'spain',\n",
       "       'Santa Eulària des Riu, Balearic Islands, Spain',\n",
       "       'Salerno, Campania, Italy', 'Canicattì, Sicily, Italy',\n",
       "       'Velilla de San Antonio, Community of Madrid, Spain', 'NL',\n",
       "       'Sandbach, England, United Kingdom',\n",
       "       'Miles City, Montana, United States',\n",
       "       'San Sebastián de los Reyes, Community of Madrid, Spain',\n",
       "       'Berkeley, California, United States',\n",
       "       'Alicante, Valencian Community, Spain',\n",
       "       'Valdemorillo, Comunidad de Madrid, Spain',\n",
       "       'Corella, Navarre, Spain', 'Dakar, Dakar, Senegal',\n",
       "       'Tallinn, Harju County, Estonia', 'Galicia, Spain',\n",
       "       'Oslo, Oslo, Norway', 'Lisbon, Lisbon, Portugal', 'Madrid',\n",
       "       'Alonso Cano 15 3ºB', 'Quito, Pichincha, Ecuador',\n",
       "       'Zaragoza, Aragon, Spain', 'Joaquín María López 11 Sótano B',\n",
       "       'Mambajao, Northern Mindanao, Philippines',\n",
       "       'San Sebastián de los Reyes, Comunidad de Madrid, Spain', 'Cuba',\n",
       "       'Hong Kong', 'SI', 'Leon, Guanajuato, Mexico',\n",
       "       'Ávila\\u200e, Castile and León, Spain',\n",
       "       'Ciempozuelos, Comunidad de Madrid, Spain',\n",
       "       'Cabanillas del Campo, Castilla-La Mancha, Spain',\n",
       "       'Toledo, Castile-La Mancha, Spain', 'Mexico',\n",
       "       'Eureka, California, United States',\n",
       "       'en Madrid cerca de El Escorial, localidad histórica',\n",
       "       'Aunay-sous-Auneau, Centre-Val de Loire, France',\n",
       "       'Lima, Lima, Peru', 'Panama, Panama, Panama', 'United States',\n",
       "       'BE', 'El Escorial, Comunidad de Madrid, Spain',\n",
       "       'San Martín de Porres, Lima Region, Peru', 'London',\n",
       "       'Torremolinos, Andalucía, Spain', 'Mallorca',\n",
       "       'Alcorcón, Community of Madrid, Spain', 'Perugia, Umbria, Italy',\n",
       "       'Caceres, Extremadura, Spain',\n",
       "       'Aranjuez, Comunidad de Madrid, Spain',\n",
       "       'Mexico City, Mexico City, Mexico',\n",
       "       'Palma, Balearic Islands, Spain',\n",
       "       'Alcorcón, Comunidad de Madrid, Spain', 'Las Rozas, Madrid, Spain',\n",
       "       'Plaza de España number 7. 9th floor, door J - 35007 - Las Palmas de Gran Canaria - Canary Islands',\n",
       "       'espana', 'Ramos Mejía, Buenos Aires Province, Argentina',\n",
       "       'Alcala de Henares, Community of Madrid, Spain',\n",
       "       'Calasparra, Región de Murcia, Spain',\n",
       "       'Las Palmas de Gran Canaria, Canarias, Spain',\n",
       "       'Tarifa, Andalusia, Spain', 'Vivimos en Aranjuez',\n",
       "       'Saint Petersburg, Saint Petersburg, Russia',\n",
       "       'Fuencarral-El Pardo, Community of Madrid, Spain',\n",
       "       'Geneva, Canton of Geneva, Switzerland', 'London, United Kingdom',\n",
       "       'Cagliari, Sardegna, Italy', 'Brighton, England, United Kingdom',\n",
       "       'Rio de Janeiro, State of Rio de Janeiro, Brazil', 'London, UK',\n",
       "       'En Madrid, en el corazón del barrio de Malasaña', 'Colombia',\n",
       "       'En Mallorca',\n",
       "       'Buenos Aires, Autonomous City of Buenos Aires, Argentina',\n",
       "       'Pinto, Community of Madrid, Spain',\n",
       "       'Key Biscayne, Florida, United States', 'Buenos Aires', 'RU',\n",
       "       'Calle Odonnell, 38, 7ºD', 'León, Castile and León, Spain',\n",
       "       'Barcelona, Cataluña, Spain', 'Cerca, en el Planeta',\n",
       "       'Torrelodones, Comunidad de Madrid, Spain',\n",
       "       'La Mesa, California, United States',\n",
       "       'Washington, District of Columbia, United States',\n",
       "       'Topsfield, Massachusetts, United States',\n",
       "       'Jerez, Andalusia, Spain', 'Irlanda',\n",
       "       'Cambridge, England, United Kingdom',\n",
       "       'Mexico City, Federal District, Mexico',\n",
       "       'Pozuelo, Comunidad de Madrid, Spain',\n",
       "       'Boadilla del Monte, Community of Madrid, Spain',\n",
       "       'Oviedo, Asturias, Spain', 'Badajoz, Extremadura, Spain',\n",
       "       'San Sebastián, Basque Country, Spain', 'Stavanger, Norway',\n",
       "       'Latvia', 'Albox, Andalusia, Spain',\n",
       "       'Calle Mirasierra 16 bajo izquierda',\n",
       "       'Santa Cruz de Tenerife, Canarias, Spain',\n",
       "       'Arona, Canary Islands, Spain',\n",
       "       'San Sebastian, Basque Country, Spain',\n",
       "       'Cardenal Mendoza 28, 3A, Madrid. cp. 28011', 'AS',\n",
       "       'El Escorial, Community of Madrid, Spain',\n",
       "       'Cádiz, Andalusia, Spain', 'Basel, Basel-Stadt, Switzerland',\n",
       "       'Tomelloso, Castilla-La Mancha, Spain',\n",
       "       'Majadahonda, Madrid, Spain', 'Newark, New Jersey, United States',\n",
       "       'Chicago, Illinois, United States', 'Oleiros, Galicia, Spain',\n",
       "       'Lima District, Lima Region, Peru', 'Huesca, Aragon, Spain',\n",
       "       'Algete, Community of Madrid, Spain',\n",
       "       'Santa Cruz de Tenerife, Canary Islands, Spain',\n",
       "       'Catania, Sicily, Italy', 'Alexandria, Virginia, United States',\n",
       "       'Lausanne, Vaud, Switzerland', 'Cáceres\\u200e, Extremadura, Spain',\n",
       "       'Alpedrete, Madrid, Spain',\n",
       "       'Santa Cruz de la Sierra, Santa Cruz Department, Bolivia',\n",
       "       'Bogota, Bogota, Colombia',\n",
       "       'Villanueva de Perales, Community of Madrid, Spain',\n",
       "       'Sant Josep de sa Talaia, Balearic Islands, Spain',\n",
       "       'Metz, Alsace-Champagne-Ardenne-Lorraine, France',\n",
       "       'Salamanca, Castilla y León, Spain', 'La Orotava, Canarias, Spain',\n",
       "       'Amsterdam, North Holland, The Netherlands',\n",
       "       'Saillagouse, Languedoc-Roussillon-Midi-Pyrénées, France',\n",
       "       'Netherlands', 'San Nicandro Garganico, Puglia, Italy',\n",
       "       'Guadalajara, Castile-La Mancha, Spain', 'Dublin, Dublin, Ireland',\n",
       "       'Chueca,Madrid', 'Bailén, Andalusia, Spain',\n",
       "       'Albox, Andalucía, Spain', 'Rouen, Upper Normandy, France',\n",
       "       'Molina de Segura, Región de Murcia, Spain',\n",
       "       'Las Pedroñeras, Castilla-La Mancha, Spain',\n",
       "       'Beirut, Beirut, Lebanon', 'Luxembourg',\n",
       "       'Villaviciosa de Odón, Community of Madrid, Spain',\n",
       "       'Curitiba, State of Paraná, Brazil', 'eloy gonzalo 19, 2ºb',\n",
       "       'São Paulo, São Paulo, Brazil',\n",
       "       'Freiburg, Baden-Wurttemberg, Germany', 'Ostiz, Navarra, Spain',\n",
       "       'Mallorca, Spain', 'Fitzroy, Victoria, Australia',\n",
       "       'Parla, Community of Madrid, Spain',\n",
       "       'Coslada, Community of Madrid, Spain',\n",
       "       'Hontanares de Eresma, Castilla y León, Spain',\n",
       "       'Logroño, La Rioja, Spain', 'Cairo, Cairo Governorate, Egypt',\n",
       "       \"Val-d'Isère, Rhone-Alpes, France\",\n",
       "       'Utrecht, Utrecht, Netherlands', 'Fuengirola, Andalucía, Spain',\n",
       "       'Caracas, Capital District, Venezuela',\n",
       "       'Fuenlabrada, Community of Madrid, Spain',\n",
       "       'Burjassot, Valencian Community, Spain',\n",
       "       'Saint-Félix-de-Valois, Québec, Canada',\n",
       "       'Villanueva de la Cañada, Community of Madrid, Spain',\n",
       "       'Murcia, Región de Murcia, Spain',\n",
       "       'Torrejón de Ardoz, Comunidad de Madrid, Spain',\n",
       "       'Benalmádena, Andalucía, Spain', '-', 'Calle Toledo, nº6 Ático 6',\n",
       "       'Bordeaux, Aquitaine, France',\n",
       "       'George Town, George Town, Cayman Islands',\n",
       "       'France and temporarily in Qatar',\n",
       "       'I was born and have always lived in this wonderful city', 'DK',\n",
       "       'Vilarmaior, Galicia, Spain', 'Montreal, Québec, Canada',\n",
       "       'glorieta de quevedo 4 3 izq',\n",
       "       'Miami Beach, Florida, United States', 'Vorarlberg, Austria',\n",
       "       'Nairobi, Nairobi, Kenya',\n",
       "       'Fuenlabrada, Comunidad de Madrid, Spain',\n",
       "       'Palma de Mallorca, Balearic Islands, Spain',\n",
       "       'Rosh Ha`Ayin, Hamerkaz, Israel',\n",
       "       'Buenos Aires, Capital Federal, Argentina',\n",
       "       'Valencia, Valencia, Spain',\n",
       "       'Adelaide, South Australia, Australia',\n",
       "       'Doctor Tolosa Latour 19 escalera 2   1-A',\n",
       "       'Fuencarral-El Pardo 10 minutes away from las Cuatro Torres',\n",
       "       'Capital District, Venezuela', 'UK',\n",
       "       'Vilamarxant, Valencian Community, Spain', 'PT',\n",
       "       'C/ Magdalena 11, 3 iz', 'Barquisimeto, Lara, Venezuela',\n",
       "       'Costa Rica', 'Seoul, South Korea', 'Venice, Veneto, Italy',\n",
       "       'Donostia-San Sebastián, Basque Country, Spain',\n",
       "       'Zurich, Canton of Zurich, Switzerland', 'Andalusia, Spain',\n",
       "       'Rafael Boti, 8 2ºA', 'CA', 'Åkersberga, Stockholm County, Sweden',\n",
       "       'San Antonio, Valparaiso, Chile',\n",
       "       'Stockholm, Stockholm County, Sweden',\n",
       "       'Zurich, Zurich, Switzerland',\n",
       "       'Villaviciosa de Odón, Comunidad de Madrid, Spain',\n",
       "       'Le Mesnil-Esnard, Normandy, France',\n",
       "       'Caluire-et-Cuire, Auvergne-Rhône-Alpes, France',\n",
       "       'calle de la ruda 3 numero 3-3', 'Istanbul, TR',\n",
       "       'Munich, Bayern, Germany', 'Vivo entre Madrid y Mallorca.',\n",
       "       'Israel', 'Puntagorda, Canarias, Spain', 'Sliema, Malta',\n",
       "       'Calamonte, Extremadura, Spain',\n",
       "       'Santiago de Compostela, Galicia, Spain',\n",
       "       'Santa Cruz de la Zarza, Castilla-La Mancha, Spain',\n",
       "       'St. Joseph, Minnesota, United States', 'En el mismo  piso',\n",
       "       'Lleida, Catalonia, Spain', 'Fort Pierce, Florida, United States',\n",
       "       'Huy, Walloon Region, Belgium',\n",
       "       'Aranjuez, Community of Madrid, Spain',\n",
       "       'Vancouver, British Columbia, Canada', 'Colombia, Huila, Colombia',\n",
       "       'españa', 'Valencia, Carabobo, Venezuela',\n",
       "       'Irun, Basque Country, Spain', 'Badalona, Catalonia, Spain',\n",
       "       'Coslada, Comunidad de Madrid, Spain',\n",
       "       'Madrid, New York, United States',\n",
       "       'Altea, Valencian Community, Spain',\n",
       "       'Pompano Beach, Florida, United States',\n",
       "       'Calle Vicente Camarón 21, 2do derecha',\n",
       "       'Quintanar de la Orden, Castile-La Mancha, Spain',\n",
       "       'Le Chesnay, Île-de-France, France', 'Ireland',\n",
       "       'Valladolid, Castilla y León, Spain',\n",
       "       'Jouy-le-Châtel, Île-de-France, France',\n",
       "       'Grenoble, Auvergne-Rhône-Alpes, France',\n",
       "       'Nancy, Lorraine, France', 'Xinzo de Limia, Galicia, Spain',\n",
       "       'Calafell, Catalonia, Spain', 'Alfaro, La Rioja, Spain',\n",
       "       'Bogajo, Castilla y León, Spain', 'Monterfil, Brittany, France',\n",
       "       'Florianópolis, State of Santa Catarina, Brazil',\n",
       "       'Nairobi, Nairobi County, Kenya',\n",
       "       'Düsseldorf, North Rhine-Westphalia, Germany',\n",
       "       'calle nanclares de oca, 1 Portal d bajo d cp 28022',\n",
       "       'Hoyo de Manzanares, Community of Madrid, Spain',\n",
       "       'Toulouse, Midi-Pyrénées, France',\n",
       "       'Prague, Hlavní město Praha, Czech Republic',\n",
       "       'Fuerteventura, Canarias, Spain',\n",
       "       'Cuenca Alta del Manzanares, Comunidad de Madrid, Spain',\n",
       "       'Milan, Lombardia, Italy', 'london',\n",
       "       'Tres Cantos, Comunidad de Madrid, Spain',\n",
       "       'La Albuera, Extremadura, Spain', 'Spain,  España,',\n",
       "       'Porto Alegre, Rio Grande do Sul, Brazil', 'EC',\n",
       "       'Lake Forest, California, United States',\n",
       "       'Hanover, Lower Saxony, Germany',\n",
       "       'Cartagena, Region of Murcia, Spain', 'Cabra, Andalusia, Spain',\n",
       "       'Seattle, Washington, United States', 'Munich, Bavaria, Germany',\n",
       "       'Houston, Texas, United States',\n",
       "       'Santo Domingo, Distrito Nacional, Dominican Republic',\n",
       "       'Alpedrete, Comunidad de Madrid, Spain',\n",
       "       'Dallas, North Carolina, United States',\n",
       "       'Albacete, Castilla-La Mancha, Spain',\n",
       "       'Léguevin, Occitanie, France', 'Varese, Lombardia, Italy',\n",
       "       'Lyon, Rhone-Alpes, France', 'Madrid & Lake Tahoe',\n",
       "       'Zamora, Castile and León, Spain',\n",
       "       'Chapinería, Comunidad de Madrid, Spain',\n",
       "       'Orlando, Florida, United States',\n",
       "       'Avenida Ciudad de Barcelona, 19, 6to Izq',\n",
       "       'Dubai, Dubai, United Arab Emirates', 'Victoria, Australia',\n",
       "       'Santiago Metropolitan Region, Chile',\n",
       "       'Miraflores de la Sierra, Community of Madrid, Spain',\n",
       "       'Colmenarejo, Comunidad de Madrid, Spain', 'Venezuela',\n",
       "       'Managua, Managua, Nicaragua', 'Pattaya, Chon Buri, Thailand',\n",
       "       'MX', 'Norwalk, Connecticut, United States',\n",
       "       'Schaerbeek, Brussels, Belgium', 'Viña del Mar, Valparaiso, Chile',\n",
       "       'Albacete, Castile-La Mancha, Spain',\n",
       "       'El Masnou, Catalonia, Spain',\n",
       "       'Torrent, Valencian Community, Spain',\n",
       "       'Kraków, Lesser Poland Voivodeship, Poland',\n",
       "       'California, United States', 'BR', 'Etterbeek, Brussels, Belgium',\n",
       "       'San Diego, California, United States', 'Espana', 'AU',\n",
       "       'Hawaiian Gardens, California, United States',\n",
       "       'Marbella, Andalusia, Spain', 'Bethesda, Maryland, United States',\n",
       "       'Hilo, Hawaii, United States', 'Piedmont, Italy',\n",
       "       'Tampico, Tamaulipas, Mexico', 'Las Palmas, Canary Islands, Spain',\n",
       "       'Kfar Saba, Israel', 'Montevideo, Montevideo Department, Uruguay',\n",
       "       'Saumur, Pays de la Loire, France',\n",
       "       'Navalcarnero, Community of Madrid, Spain',\n",
       "       'Daganzo de Arriba, Comunidad de Madrid, Spain',\n",
       "       'Santa Monica, California, United States', 'TW',\n",
       "       'Riga, Riga, Latvia',\n",
       "       'Paseo Castellana 243, 3º dcha; 28046 Madridf',\n",
       "       'Tracy, California, United States',\n",
       "       'Magdalena Del Mar, Lima, Peru',\n",
       "       'Corrientes, Corrientes Province, Argentina',\n",
       "       'Hallandale Beach, Florida, United States',\n",
       "       'Aldeanueva de Ebro, La Rioja, Spain',\n",
       "       'El Puerto de Santa María, Andalusia, Spain',\n",
       "       'Dublin, County Dublin, Ireland',\n",
       "       'Azuqueca de Henares, Castile-La Mancha, Spain',\n",
       "       'Dénia, Valencian Community, Spain', 'Germany',\n",
       "       'Vigo, Galicia, Spain', 'Cadiz, Andalucía, Spain',\n",
       "       'Buenos Aires, Argentina', 'Hamburg, Hamburg, Germany',\n",
       "       'Kitzbuhel, Tyrol, Austria', 'Rezé, Pays de la Loire, France',\n",
       "       'Saverne, Alsace, France', 'Evora, Évora District, Portugal',\n",
       "       'Viso del Marqués, Castilla-La Mancha, Spain',\n",
       "       'Sutton Coldfield, England, United Kingdom', 'Between Spain & USA',\n",
       "       'Paracuellos de Jarama, Comunidad de Madrid, Spain',\n",
       "       'Playa Honda, Región de Murcia, Spain', 'PA', 'Asturias',\n",
       "       'Tomares, Andalusia, Spain',\n",
       "       'Ontinyent, Valencian Community, Spain', 'Florida, United States',\n",
       "       'Arroyomolinos, Community of Madrid, Spain',\n",
       "       'Cotia, São Paulo, Brazil', 'Athens, Attica, Greece',\n",
       "       'Croydon, London', 'Tarifa, Spain', 'Auderghem, Brussels, Belgium',\n",
       "       'Bremen, Bremen, Germany', 'London, Reino Unido',\n",
       "       'Valladolid, Castile and León, Spain',\n",
       "       'Naples, Florida, United States', 'Galdakao, Euskadi, Spain',\n",
       "       'Antwerp, Flanders, Belgium', 'Montreal, Quebec, Canada',\n",
       "       'Moraira, Comunidad Valenciana, Spain',\n",
       "       'Oslo, Oslo, Kingdom of Norway', 'Arrecife, Canary Islands, Spain',\n",
       "       'México, DF', 'Gainesville, Florida, United States',\n",
       "       'Tönisvorst, North Rhine-Westphalia, Germany',\n",
       "       'Getafe, Comunidad de Madrid, Spain', 'California, USA',\n",
       "       'Frankfurt, Hesse, Germany', 'Comunidad de Madrid, Spain',\n",
       "       'Copenhagen, Capital Region of Denmark, Denmark',\n",
       "       'Ajaccio, Corsica, France', 'Calle Carlos de Arniches 2 Int Izq'],\n",
       "      dtype=object)"
      ]
     },
     "execution_count": 25,
     "metadata": {},
     "output_type": "execute_result"
    }
   ],
   "source": [
    "df_listings['Host.Location'].unique()"
   ]
  },
  {
   "cell_type": "markdown",
   "metadata": {},
   "source": [
    "Does it have an impact if the host lives in the same city, in this case Madrid? Let's create a new True/False column Madrid.Based."
   ]
  },
  {
   "cell_type": "code",
   "execution_count": 26,
   "metadata": {},
   "outputs": [],
   "source": [
    "#create a new True/False column Madrid.Based\n",
    "df_listings['Madrid.Based'] = df_listings['Host.Location'].str.contains('Madrid')\n",
    "\n",
    "#drop the original column\n",
    "df_listings.drop('Host.Location', axis=1, inplace=True)"
   ]
  },
  {
   "cell_type": "markdown",
   "metadata": {},
   "source": [
    "The host response rate can be an interesting metric as well."
   ]
  },
  {
   "cell_type": "code",
   "execution_count": 27,
   "metadata": {},
   "outputs": [
    {
     "data": {
      "text/plain": [
       "array(['within a day', 'within an hour', 'within a few hours', nan,\n",
       "       'a few days or more'], dtype=object)"
      ]
     },
     "execution_count": 27,
     "metadata": {},
     "output_type": "execute_result"
    }
   ],
   "source": [
    "#show the unique values\n",
    "df_listings['Host.Response.Time'].unique()"
   ]
  },
  {
   "cell_type": "code",
   "execution_count": 28,
   "metadata": {},
   "outputs": [
    {
     "data": {
      "text/plain": [
       "1702"
      ]
     },
     "execution_count": 28,
     "metadata": {},
     "output_type": "execute_result"
    }
   ],
   "source": [
    "#show the number of null values\n",
    "df_listings['Host.Response.Time'].isna().sum()"
   ]
  },
  {
   "cell_type": "code",
   "execution_count": 29,
   "metadata": {},
   "outputs": [],
   "source": [
    "#for the sake of visualization these can be imputed with a description\n",
    "df_listings.loc[df_listings['Host.Response.Time'].isna(), 'Host.Response.Time'] = 'information not available'"
   ]
  },
  {
   "cell_type": "markdown",
   "metadata": {},
   "source": [
    "Let's explore the Property.Type, Room.Type, Bed.Type & Cancellation.Policy categorical features. As we have seen earlier these columns don't have any null values."
   ]
  },
  {
   "cell_type": "code",
   "execution_count": 30,
   "metadata": {},
   "outputs": [
    {
     "data": {
      "text/plain": [
       "array(['Apartment', 'Guesthouse', 'Other', 'House', 'Condominium',\n",
       "       'Bed & Breakfast', 'Loft', 'Dorm', 'Hostel', 'Chalet',\n",
       "       'Casa particular', 'Townhouse', 'Serviced apartment',\n",
       "       'Boutique hotel', 'Earth House', 'Camper/RV', 'Villa',\n",
       "       'Guest suite', 'Timeshare', 'Bungalow', 'Tent', 'Boat'],\n",
       "      dtype=object)"
      ]
     },
     "execution_count": 30,
     "metadata": {},
     "output_type": "execute_result"
    }
   ],
   "source": [
    "df_listings['Property.Type'].unique()"
   ]
  },
  {
   "cell_type": "code",
   "execution_count": 31,
   "metadata": {},
   "outputs": [
    {
     "data": {
      "text/plain": [
       "array(['Private room', 'Entire home/apt', 'Shared room'], dtype=object)"
      ]
     },
     "execution_count": 31,
     "metadata": {},
     "output_type": "execute_result"
    }
   ],
   "source": [
    "df_listings['Room.Type'].unique()"
   ]
  },
  {
   "cell_type": "code",
   "execution_count": 32,
   "metadata": {},
   "outputs": [
    {
     "data": {
      "text/plain": [
       "array(['Real Bed', 'Pull-out Sofa', 'Futon', 'Couch', 'Airbed'],\n",
       "      dtype=object)"
      ]
     },
     "execution_count": 32,
     "metadata": {},
     "output_type": "execute_result"
    }
   ],
   "source": [
    "df_listings['Bed.Type'].unique()"
   ]
  },
  {
   "cell_type": "code",
   "execution_count": 33,
   "metadata": {},
   "outputs": [
    {
     "data": {
      "text/plain": [
       "array(['flexible', 'strict', 'moderate', 'super_strict_60',\n",
       "       'super_strict_30'], dtype=object)"
      ]
     },
     "execution_count": 33,
     "metadata": {},
     "output_type": "execute_result"
    }
   ],
   "source": [
    "df_listings['Cancellation.Policy'].unique()"
   ]
  },
  {
   "cell_type": "markdown",
   "metadata": {},
   "source": [
    "These four columns are ready to be used in our analysis and visualization."
   ]
  },
  {
   "cell_type": "markdown",
   "metadata": {},
   "source": [
    "## Bool-type columns"
   ]
  },
  {
   "cell_type": "code",
   "execution_count": 34,
   "metadata": {},
   "outputs": [
    {
     "data": {
      "text/plain": [
       "House.Rules                  0\n",
       "Host.About                   0\n",
       "TV                           0\n",
       "Internet                     0\n",
       "Wireless Internet            0\n",
       "Kitchen                      0\n",
       "Doorman                      0\n",
       "Elevator in building         0\n",
       "Buzzer/wireless intercom     0\n",
       "Heating                      0\n",
       "Washer                       0\n",
       "Essentials                   0\n",
       "Shampoo                      0\n",
       "Hangers                      0\n",
       "Air conditioning             0\n",
       "Breakfast                    0\n",
       "Family/kid friendly          0\n",
       "Dryer                        0\n",
       "Hair dryer                   0\n",
       "Iron                         0\n",
       "Laptop friendly workspace    0\n",
       "Pets allowed                 0\n",
       "Smoke detector               0\n",
       "Carbon monoxide detector     0\n",
       "First aid kit                0\n",
       "Fire extinguisher            0\n",
       "24-hour check-in             0\n",
       "Smoking allowed              0\n",
       "Wheelchair accessible        0\n",
       "Safety card                  0\n",
       "Host Has Profile Pic         0\n",
       "Host Identity Verified       0\n",
       "Is Location Exact            0\n",
       "Instant Bookable             0\n",
       "Host Is Superhost            0\n",
       "dtype: int64"
      ]
     },
     "execution_count": 34,
     "metadata": {},
     "output_type": "execute_result"
    }
   ],
   "source": [
    "df_listings.select_dtypes(include='bool').isna().sum()"
   ]
  },
  {
   "cell_type": "markdown",
   "metadata": {},
   "source": [
    "There are no null values in bool columns. However, some of them might not be useful."
   ]
  },
  {
   "cell_type": "markdown",
   "metadata": {},
   "source": [
    "Are Internet and Wireless Internet duplicates?"
   ]
  },
  {
   "cell_type": "code",
   "execution_count": 35,
   "metadata": {},
   "outputs": [
    {
     "data": {
      "text/html": [
       "<div>\n",
       "<style scoped>\n",
       "    .dataframe tbody tr th:only-of-type {\n",
       "        vertical-align: middle;\n",
       "    }\n",
       "\n",
       "    .dataframe tbody tr th {\n",
       "        vertical-align: top;\n",
       "    }\n",
       "\n",
       "    .dataframe thead th {\n",
       "        text-align: right;\n",
       "    }\n",
       "</style>\n",
       "<table border=\"1\" class=\"dataframe\">\n",
       "  <thead>\n",
       "    <tr style=\"text-align: right;\">\n",
       "      <th></th>\n",
       "      <th>Internet</th>\n",
       "      <th>Wireless Internet</th>\n",
       "    </tr>\n",
       "  </thead>\n",
       "  <tbody>\n",
       "    <tr>\n",
       "      <th>76</th>\n",
       "      <td>True</td>\n",
       "      <td>False</td>\n",
       "    </tr>\n",
       "    <tr>\n",
       "      <th>422</th>\n",
       "      <td>True</td>\n",
       "      <td>False</td>\n",
       "    </tr>\n",
       "    <tr>\n",
       "      <th>443</th>\n",
       "      <td>True</td>\n",
       "      <td>False</td>\n",
       "    </tr>\n",
       "    <tr>\n",
       "      <th>516</th>\n",
       "      <td>True</td>\n",
       "      <td>False</td>\n",
       "    </tr>\n",
       "    <tr>\n",
       "      <th>604</th>\n",
       "      <td>True</td>\n",
       "      <td>False</td>\n",
       "    </tr>\n",
       "    <tr>\n",
       "      <th>...</th>\n",
       "      <td>...</td>\n",
       "      <td>...</td>\n",
       "    </tr>\n",
       "    <tr>\n",
       "      <th>12797</th>\n",
       "      <td>True</td>\n",
       "      <td>False</td>\n",
       "    </tr>\n",
       "    <tr>\n",
       "      <th>12895</th>\n",
       "      <td>True</td>\n",
       "      <td>False</td>\n",
       "    </tr>\n",
       "    <tr>\n",
       "      <th>12926</th>\n",
       "      <td>True</td>\n",
       "      <td>False</td>\n",
       "    </tr>\n",
       "    <tr>\n",
       "      <th>12988</th>\n",
       "      <td>True</td>\n",
       "      <td>False</td>\n",
       "    </tr>\n",
       "    <tr>\n",
       "      <th>13304</th>\n",
       "      <td>True</td>\n",
       "      <td>False</td>\n",
       "    </tr>\n",
       "  </tbody>\n",
       "</table>\n",
       "<p>114 rows × 2 columns</p>\n",
       "</div>"
      ],
      "text/plain": [
       "       Internet  Wireless Internet\n",
       "76         True              False\n",
       "422        True              False\n",
       "443        True              False\n",
       "516        True              False\n",
       "604        True              False\n",
       "...         ...                ...\n",
       "12797      True              False\n",
       "12895      True              False\n",
       "12926      True              False\n",
       "12988      True              False\n",
       "13304      True              False\n",
       "\n",
       "[114 rows x 2 columns]"
      ]
     },
     "execution_count": 35,
     "metadata": {},
     "output_type": "execute_result"
    }
   ],
   "source": [
    "df_listings.loc[df_listings['Internet'] != df_listings['Wireless Internet'], ['Internet', 'Wireless Internet']]"
   ]
  },
  {
   "cell_type": "markdown",
   "metadata": {},
   "source": [
    "There are 114 observations with non-wireless Internet. Is this distinction important? Should we just one of the columns?"
   ]
  },
  {
   "cell_type": "code",
   "execution_count": 36,
   "metadata": {},
   "outputs": [
    {
     "data": {
      "image/png": "[encoded data removed]",
      "text/plain": [
       "<Figure size 432x288 with 1 Axes>"
      ]
     },
     "metadata": {
      "needs_background": "light"
     },
     "output_type": "display_data"
    }
   ],
   "source": [
    "df_internet = pd.concat([df_listings.groupby('Internet', as_index=False).aggregate({'Internet': 'count'}),\\\n",
    "                        df_listings.groupby('Wireless Internet', as_index=False).aggregate({'Wireless Internet': 'count'})], axis=1)\n",
    "\n",
    "df_internet.plot.bar()\n",
    "plt.title('Distribution of Internet')\n",
    "plt.xticks([0, 1], ['False', 'True'], rotation=0)\n",
    "plt.show()"
   ]
  },
  {
   "cell_type": "markdown",
   "metadata": {},
   "source": [
    "Actually there isn't a lot of False values in either column. Let's drop Wireless Internet as a subtype of Internet."
   ]
  },
  {
   "cell_type": "code",
   "execution_count": 37,
   "metadata": {},
   "outputs": [],
   "source": [
    "df_listings.drop('Wireless Internet', axis=1, inplace=True)"
   ]
  },
  {
   "cell_type": "markdown",
   "metadata": {},
   "source": [
    "Are Smoke detector and Carbon monoxide detector columns duplicates?"
   ]
  },
  {
   "cell_type": "code",
   "execution_count": 38,
   "metadata": {},
   "outputs": [
    {
     "data": {
      "text/html": [
       "<div>\n",
       "<style scoped>\n",
       "    .dataframe tbody tr th:only-of-type {\n",
       "        vertical-align: middle;\n",
       "    }\n",
       "\n",
       "    .dataframe tbody tr th {\n",
       "        vertical-align: top;\n",
       "    }\n",
       "\n",
       "    .dataframe thead th {\n",
       "        text-align: right;\n",
       "    }\n",
       "</style>\n",
       "<table border=\"1\" class=\"dataframe\">\n",
       "  <thead>\n",
       "    <tr style=\"text-align: right;\">\n",
       "      <th></th>\n",
       "      <th>Smoke detector</th>\n",
       "      <th>Carbon monoxide detector</th>\n",
       "    </tr>\n",
       "  </thead>\n",
       "  <tbody>\n",
       "    <tr>\n",
       "      <th>32</th>\n",
       "      <td>True</td>\n",
       "      <td>False</td>\n",
       "    </tr>\n",
       "    <tr>\n",
       "      <th>38</th>\n",
       "      <td>True</td>\n",
       "      <td>False</td>\n",
       "    </tr>\n",
       "    <tr>\n",
       "      <th>54</th>\n",
       "      <td>True</td>\n",
       "      <td>False</td>\n",
       "    </tr>\n",
       "    <tr>\n",
       "      <th>90</th>\n",
       "      <td>True</td>\n",
       "      <td>False</td>\n",
       "    </tr>\n",
       "    <tr>\n",
       "      <th>106</th>\n",
       "      <td>True</td>\n",
       "      <td>False</td>\n",
       "    </tr>\n",
       "    <tr>\n",
       "      <th>...</th>\n",
       "      <td>...</td>\n",
       "      <td>...</td>\n",
       "    </tr>\n",
       "    <tr>\n",
       "      <th>13176</th>\n",
       "      <td>True</td>\n",
       "      <td>False</td>\n",
       "    </tr>\n",
       "    <tr>\n",
       "      <th>13197</th>\n",
       "      <td>True</td>\n",
       "      <td>False</td>\n",
       "    </tr>\n",
       "    <tr>\n",
       "      <th>13207</th>\n",
       "      <td>True</td>\n",
       "      <td>False</td>\n",
       "    </tr>\n",
       "    <tr>\n",
       "      <th>13272</th>\n",
       "      <td>True</td>\n",
       "      <td>False</td>\n",
       "    </tr>\n",
       "    <tr>\n",
       "      <th>13278</th>\n",
       "      <td>True</td>\n",
       "      <td>False</td>\n",
       "    </tr>\n",
       "  </tbody>\n",
       "</table>\n",
       "<p>685 rows × 2 columns</p>\n",
       "</div>"
      ],
      "text/plain": [
       "       Smoke detector  Carbon monoxide detector\n",
       "32               True                     False\n",
       "38               True                     False\n",
       "54               True                     False\n",
       "90               True                     False\n",
       "106              True                     False\n",
       "...               ...                       ...\n",
       "13176            True                     False\n",
       "13197            True                     False\n",
       "13207            True                     False\n",
       "13272            True                     False\n",
       "13278            True                     False\n",
       "\n",
       "[685 rows x 2 columns]"
      ]
     },
     "execution_count": 38,
     "metadata": {},
     "output_type": "execute_result"
    }
   ],
   "source": [
    "df_listings.loc[df_listings['Smoke detector'] != df_listings['Carbon monoxide detector'], ['Smoke detector', 'Carbon monoxide detector']]"
   ]
  },
  {
   "cell_type": "markdown",
   "metadata": {},
   "source": [
    "There are 686 observations where these two don't match."
   ]
  },
  {
   "cell_type": "code",
   "execution_count": 39,
   "metadata": {},
   "outputs": [
    {
     "data": {
      "image/png": "[encoded data removed]",
      "text/plain": [
       "<Figure size 432x288 with 1 Axes>"
      ]
     },
     "metadata": {
      "needs_background": "light"
     },
     "output_type": "display_data"
    }
   ],
   "source": [
    "df_internet = pd.concat([df_listings.groupby('Smoke detector', as_index=False).aggregate({'Smoke detector': 'count'}),\\\n",
    "                        df_listings.groupby('Carbon monoxide detector', as_index=False).aggregate({'Carbon monoxide detector': 'count'})], axis=1)\n",
    "\n",
    "df_internet.plot.bar()\n",
    "plt.title('Smoke detector vs Carbon monoxide detector')\n",
    "plt.xticks([0, 1], ['False', 'True'], rotation=0)\n",
    "plt.show()"
   ]
  },
  {
   "cell_type": "markdown",
   "metadata": {},
   "source": [
    "There is only a small part of listings that have detectors. It could be an important feature."
   ]
  },
  {
   "cell_type": "markdown",
   "metadata": {},
   "source": [
    "Let's have a look at the distribution of other boolean variables."
   ]
  },
  {
   "cell_type": "code",
   "execution_count": 40,
   "metadata": {},
   "outputs": [
    {
     "data": {
      "image/png": "[encoded data removed]",
      "text/plain": [
       "<Figure size 432x288 with 1 Axes>"
      ]
     },
     "metadata": {
      "needs_background": "light"
     },
     "output_type": "display_data"
    },
    {
     "data": {
      "image/png": "[encoded data removed]",
      "text/plain": [
       "<Figure size 432x288 with 1 Axes>"
      ]
     },
     "metadata": {
      "needs_background": "light"
     },
     "output_type": "display_data"
    },
    {
     "data": {
      "image/png": "[encoded data removed]",
      "text/plain": [
       "<Figure size 432x288 with 1 Axes>"
      ]
     },
     "metadata": {
      "needs_background": "light"
     },
     "output_type": "display_data"
    },
    {
     "data": {
      "image/png": "[encoded data removed]",
      "text/plain": [
       "<Figure size 432x288 with 1 Axes>"
      ]
     },
     "metadata": {
      "needs_background": "light"
     },
     "output_type": "display_data"
    },
    {
     "data": {
      "image/png": "[encoded data removed]",
      "text/plain": [
       "<Figure size 432x288 with 1 Axes>"
      ]
     },
     "metadata": {
      "needs_background": "light"
     },
     "output_type": "display_data"
    },
    {
     "data": {
      "image/png": "[encoded data removed]",
      "text/plain": [
       "<Figure size 432x288 with 1 Axes>"
      ]
     },
     "metadata": {
      "needs_background": "light"
     },
     "output_type": "display_data"
    },
    {
     "data": {
      "image/png": "[encoded data removed]",
      "text/plain": [
       "<Figure size 432x288 with 1 Axes>"
      ]
     },
     "metadata": {
      "needs_background": "light"
     },
     "output_type": "display_data"
    },
    {
     "data": {
      "image/png": "[encoded data removed]",
      "text/plain": [
       "<Figure size 432x288 with 1 Axes>"
      ]
     },
     "metadata": {
      "needs_background": "light"
     },
     "output_type": "display_data"
    },
    {
     "data": {
      "image/png": "[encoded data removed]",
      "text/plain": [
       "<Figure size 432x288 with 1 Axes>"
      ]
     },
     "metadata": {
      "needs_background": "light"
     },
     "output_type": "display_data"
    },
    {
     "data": {
      "image/png": "[encoded data removed]",
      "text/plain": [
       "<Figure size 432x288 with 1 Axes>"
      ]
     },
     "metadata": {
      "needs_background": "light"
     },
     "output_type": "display_data"
    },
    {
     "data": {
      "image/png": "[encoded data removed]",
      "text/plain": [
       "<Figure size 432x288 with 1 Axes>"
      ]
     },
     "metadata": {
      "needs_background": "light"
     },
     "output_type": "display_data"
    },
    {
     "data": {
      "image/png": "[encoded data removed]",
      "text/plain": [
       "<Figure size 432x288 with 1 Axes>"
      ]
     },
     "metadata": {
      "needs_background": "light"
     },
     "output_type": "display_data"
    },
    {
     "data": {
      "image/png": "[encoded data removed]",
      "text/plain": [
       "<Figure size 432x288 with 1 Axes>"
      ]
     },
     "metadata": {
      "needs_background": "light"
     },
     "output_type": "display_data"
    },
    {
     "data": {
      "image/png": "[encoded data removed]",
      "text/plain": [
       "<Figure size 432x288 with 1 Axes>"
      ]
     },
     "metadata": {
      "needs_background": "light"
     },
     "output_type": "display_data"
    },
    {
     "data": {
      "image/png": "[encoded data removed]",
      "text/plain": [
       "<Figure size 432x288 with 1 Axes>"
      ]
     },
     "metadata": {
      "needs_background": "light"
     },
     "output_type": "display_data"
    },
    {
     "data": {
      "image/png": "[encoded data removed]",
      "text/plain": [
       "<Figure size 432x288 with 1 Axes>"
      ]
     },
     "metadata": {
      "needs_background": "light"
     },
     "output_type": "display_data"
    },
    {
     "data": {
      "image/png": "[encoded data removed]",
      "text/plain": [
       "<Figure size 432x288 with 1 Axes>"
      ]
     },
     "metadata": {
      "needs_background": "light"
     },
     "output_type": "display_data"
    },
    {
     "data": {
      "image/png": "[encoded data removed]",
      "text/plain": [
       "<Figure size 432x288 with 1 Axes>"
      ]
     },
     "metadata": {
      "needs_background": "light"
     },
     "output_type": "display_data"
    },
    {
     "data": {
      "image/png": "[encoded data removed]",
      "text/plain": [
       "<Figure size 432x288 with 1 Axes>"
      ]
     },
     "metadata": {
      "needs_background": "light"
     },
     "output_type": "display_data"
    },
    {
     "data": {
      "image/png": "[encoded data removed]",
      "text/plain": [
       "<Figure size 432x288 with 1 Axes>"
      ]
     },
     "metadata": {
      "needs_background": "light"
     },
     "output_type": "display_data"
    },
    {
     "data": {
      "image/png": "[encoded data removed]",
      "text/plain": [
       "<Figure size 432x288 with 1 Axes>"
      ]
     },
     "metadata": {
      "needs_background": "light"
     },
     "output_type": "display_data"
    },
    {
     "data": {
      "image/png": "[encoded data removed]",
      "text/plain": [
       "<Figure size 432x288 with 1 Axes>"
      ]
     },
     "metadata": {
      "needs_background": "light"
     },
     "output_type": "display_data"
    },
    {
     "data": {
      "image/png": "[encoded data removed]",
      "text/plain": [
       "<Figure size 432x288 with 1 Axes>"
      ]
     },
     "metadata": {
      "needs_background": "light"
     },
     "output_type": "display_data"
    },
    {
     "data": {
      "image/png": "[encoded data removed]",
      "text/plain": [
       "<Figure size 432x288 with 1 Axes>"
      ]
     },
     "metadata": {
      "needs_background": "light"
     },
     "output_type": "display_data"
    },
    {
     "data": {
      "image/png": "[encoded data removed]",
      "text/plain": [
       "<Figure size 432x288 with 1 Axes>"
      ]
     },
     "metadata": {
      "needs_background": "light"
     },
     "output_type": "display_data"
    },
    {
     "data": {
      "image/png": "[encoded data removed]",
      "text/plain": [
       "<Figure size 432x288 with 1 Axes>"
      ]
     },
     "metadata": {
      "needs_background": "light"
     },
     "output_type": "display_data"
    },
    {
     "data": {
      "image/png": "[encoded data removed]",
      "text/plain": [
       "<Figure size 432x288 with 1 Axes>"
      ]
     },
     "metadata": {
      "needs_background": "light"
     },
     "output_type": "display_data"
    },
    {
     "data": {
      "image/png": "[encoded data removed]",
      "text/plain": [
       "<Figure size 432x288 with 1 Axes>"
      ]
     },
     "metadata": {
      "needs_background": "light"
     },
     "output_type": "display_data"
    },
    {
     "data": {
      "image/png": "[encoded data removed]",
      "text/plain": [
       "<Figure size 432x288 with 1 Axes>"
      ]
     },
     "metadata": {
      "needs_background": "light"
     },
     "output_type": "display_data"
    },
    {
     "data": {
      "image/png": "[encoded data removed]",
      "text/plain": [
       "<Figure size 432x288 with 1 Axes>"
      ]
     },
     "metadata": {
      "needs_background": "light"
     },
     "output_type": "display_data"
    },
    {
     "data": {
      "image/png": "[encoded data removed]",
      "text/plain": [
       "<Figure size 432x288 with 1 Axes>"
      ]
     },
     "metadata": {
      "needs_background": "light"
     },
     "output_type": "display_data"
    }
   ],
   "source": [
    "bool_columns = list(df_listings.select_dtypes(include='bool'))\n",
    "treated = ['Internet', 'Smoke detector', 'Carbon monoxide detector']\n",
    "for i in bool_columns:\n",
    "    if i not in treated:\n",
    "        df_listings[i].value_counts().plot.bar()\n",
    "        plt.title(i)\n",
    "        plt.xticks(rotation=0)\n",
    "        plt.show()"
   ]
  },
  {
   "cell_type": "markdown",
   "metadata": {},
   "source": [
    "- Almost all hosts have profile pictures, so it appears to be a redundant feature.\n",
    "- Hangers doesn't seem to be a relevant feature.\n",
    "- Safety card doesn't seem to be a relevant feature."
   ]
  },
  {
   "cell_type": "code",
   "execution_count": 41,
   "metadata": {},
   "outputs": [],
   "source": [
    "df_listings.drop(['Host Has Profile Pic', 'Hangers', 'Safety card'], axis=1, inplace=True)"
   ]
  },
  {
   "cell_type": "markdown",
   "metadata": {},
   "source": [
    "### Columns with numeric variables"
   ]
  },
  {
   "cell_type": "code",
   "execution_count": 42,
   "metadata": {},
   "outputs": [
    {
     "data": {
      "text/plain": [
       "ID                                0\n",
       "Host.ID                           0\n",
       "Host.Response.Rate             1702\n",
       "Host.Listings.Count               3\n",
       "Zipcode                         450\n",
       "Latitude                          0\n",
       "Longitude                         0\n",
       "Accommodates                      0\n",
       "Bathrooms                        48\n",
       "Bedrooms                         23\n",
       "Beds                             48\n",
       "Price                             0\n",
       "Weekly.Price                   9948\n",
       "Monthly.Price                  9989\n",
       "Security.Deposit               7663\n",
       "Cleaning.Fee                   5468\n",
       "Guests.Included                   0\n",
       "Extra.People                      0\n",
       "Minimum.Nights                    0\n",
       "Maximum.Nights                    0\n",
       "Availability.30                   0\n",
       "Availability.60                   0\n",
       "Availability.90                   0\n",
       "Availability.365                  0\n",
       "Number.of.Reviews                 0\n",
       "Review.Scores.Rating           2898\n",
       "Review.Scores.Accuracy         2916\n",
       "Review.Scores.Cleanliness      2910\n",
       "Review.Scores.Checkin          2926\n",
       "Review.Scores.Communication    2910\n",
       "Review.Scores.Location         2928\n",
       "Review.Scores.Value            2928\n",
       "Reviews.per.Month              2773\n",
       "Listing.Description.Length        0\n",
       "Days.from.Cal.Update              0\n",
       "N.of.Host.Verifications           0\n",
       "dtype: int64"
      ]
     },
     "execution_count": 42,
     "metadata": {},
     "output_type": "execute_result"
    }
   ],
   "source": [
    "df_listings.select_dtypes(include=['float64', 'int32', 'int64']).isna().sum()"
   ]
  },
  {
   "cell_type": "markdown",
   "metadata": {},
   "source": [
    "**How could nulls in 'Host.Response.Rate' be explained? Is it an active host or someone who registered once but is not using the platform?**"
   ]
  },
  {
   "cell_type": "code",
   "execution_count": 43,
   "metadata": {},
   "outputs": [
    {
     "data": {
      "text/html": [
       "<div>\n",
       "<style scoped>\n",
       "    .dataframe tbody tr th:only-of-type {\n",
       "        vertical-align: middle;\n",
       "    }\n",
       "\n",
       "    .dataframe tbody tr th {\n",
       "        vertical-align: top;\n",
       "    }\n",
       "\n",
       "    .dataframe thead th {\n",
       "        text-align: right;\n",
       "    }\n",
       "</style>\n",
       "<table border=\"1\" class=\"dataframe\">\n",
       "  <thead>\n",
       "    <tr style=\"text-align: right;\">\n",
       "      <th></th>\n",
       "      <th>Number.of.Reviews</th>\n",
       "      <th>Availability.30</th>\n",
       "      <th>Availability.60</th>\n",
       "      <th>Availability.90</th>\n",
       "      <th>Availability.365</th>\n",
       "      <th>Days.from.Cal.Update</th>\n",
       "    </tr>\n",
       "  </thead>\n",
       "  <tbody>\n",
       "    <tr>\n",
       "      <th>median</th>\n",
       "      <td>0.000000</td>\n",
       "      <td>0.000000</td>\n",
       "      <td>0.000000</td>\n",
       "      <td>0.000000</td>\n",
       "      <td>26.000000</td>\n",
       "      <td>210.000000</td>\n",
       "    </tr>\n",
       "    <tr>\n",
       "      <th>mean</th>\n",
       "      <td>3.153349</td>\n",
       "      <td>7.657462</td>\n",
       "      <td>16.645123</td>\n",
       "      <td>27.547591</td>\n",
       "      <td>126.505875</td>\n",
       "      <td>277.658637</td>\n",
       "    </tr>\n",
       "  </tbody>\n",
       "</table>\n",
       "</div>"
      ],
      "text/plain": [
       "        Number.of.Reviews  Availability.30  Availability.60  Availability.90  \\\n",
       "median           0.000000         0.000000         0.000000         0.000000   \n",
       "mean             3.153349         7.657462        16.645123        27.547591   \n",
       "\n",
       "        Availability.365  Days.from.Cal.Update  \n",
       "median         26.000000            210.000000  \n",
       "mean          126.505875            277.658637  "
      ]
     },
     "execution_count": 43,
     "metadata": {},
     "output_type": "execute_result"
    }
   ],
   "source": [
    "#calculate mean and median for metrics that might indicate low usage\n",
    "df_listings.loc[df_listings['Host.Response.Rate'].isna(), ['Number.of.Reviews', 'Availability.30',\n",
    "                                                           'Availability.60', 'Availability.90', 'Availability.365',\n",
    "                                                           'Days.from.Cal.Update']].aggregate(['median', 'mean'])"
   ]
  },
  {
   "cell_type": "markdown",
   "metadata": {},
   "source": [
    "**These listings seem to have little activity in general. The nulls in response rate could be imputed with zeros in this case.**"
   ]
  },
  {
   "cell_type": "code",
   "execution_count": 44,
   "metadata": {},
   "outputs": [],
   "source": [
    "df_listings.loc[df_listings['Host.Response.Rate'].isna(),'Host.Response.Rate'] = 0"
   ]
  },
  {
   "cell_type": "code",
   "execution_count": 45,
   "metadata": {},
   "outputs": [
    {
     "data": {
      "text/html": [
       "<div>\n",
       "<style scoped>\n",
       "    .dataframe tbody tr th:only-of-type {\n",
       "        vertical-align: middle;\n",
       "    }\n",
       "\n",
       "    .dataframe tbody tr th {\n",
       "        vertical-align: top;\n",
       "    }\n",
       "\n",
       "    .dataframe thead th {\n",
       "        text-align: right;\n",
       "    }\n",
       "</style>\n",
       "<table border=\"1\" class=\"dataframe\">\n",
       "  <thead>\n",
       "    <tr style=\"text-align: right;\">\n",
       "      <th></th>\n",
       "      <th>Host.ID</th>\n",
       "      <th>Host.Name</th>\n",
       "      <th>Host.Response.Time</th>\n",
       "      <th>Host.Response.Rate</th>\n",
       "      <th>Host.Listings.Count</th>\n",
       "      <th>Host.Tenure</th>\n",
       "      <th>Host Identity Verified</th>\n",
       "      <th>N.of.Host.Verifications</th>\n",
       "      <th>Number.of.Reviews</th>\n",
       "      <th>Availability.30</th>\n",
       "      <th>Availability.60</th>\n",
       "      <th>Availability.90</th>\n",
       "      <th>Availability.365</th>\n",
       "      <th>Days.from.Cal.Update</th>\n",
       "    </tr>\n",
       "  </thead>\n",
       "  <tbody>\n",
       "    <tr>\n",
       "      <th>1621</th>\n",
       "      <td>40516896</td>\n",
       "      <td>NaN</td>\n",
       "      <td>information not available</td>\n",
       "      <td>0.0</td>\n",
       "      <td>NaN</td>\n",
       "      <td>NaT</td>\n",
       "      <td>False</td>\n",
       "      <td>1</td>\n",
       "      <td>0</td>\n",
       "      <td>0</td>\n",
       "      <td>0</td>\n",
       "      <td>0</td>\n",
       "      <td>0</td>\n",
       "      <td>600</td>\n",
       "    </tr>\n",
       "    <tr>\n",
       "      <th>6266</th>\n",
       "      <td>36068881</td>\n",
       "      <td>NaN</td>\n",
       "      <td>information not available</td>\n",
       "      <td>0.0</td>\n",
       "      <td>NaN</td>\n",
       "      <td>NaT</td>\n",
       "      <td>False</td>\n",
       "      <td>1</td>\n",
       "      <td>0</td>\n",
       "      <td>0</td>\n",
       "      <td>0</td>\n",
       "      <td>0</td>\n",
       "      <td>0</td>\n",
       "      <td>660</td>\n",
       "    </tr>\n",
       "    <tr>\n",
       "      <th>12253</th>\n",
       "      <td>46845753</td>\n",
       "      <td>NaN</td>\n",
       "      <td>information not available</td>\n",
       "      <td>0.0</td>\n",
       "      <td>NaN</td>\n",
       "      <td>NaT</td>\n",
       "      <td>False</td>\n",
       "      <td>1</td>\n",
       "      <td>0</td>\n",
       "      <td>0</td>\n",
       "      <td>0</td>\n",
       "      <td>0</td>\n",
       "      <td>0</td>\n",
       "      <td>540</td>\n",
       "    </tr>\n",
       "  </tbody>\n",
       "</table>\n",
       "</div>"
      ],
      "text/plain": [
       "        Host.ID Host.Name         Host.Response.Time  Host.Response.Rate  \\\n",
       "1621   40516896       NaN  information not available                 0.0   \n",
       "6266   36068881       NaN  information not available                 0.0   \n",
       "12253  46845753       NaN  information not available                 0.0   \n",
       "\n",
       "       Host.Listings.Count Host.Tenure  Host Identity Verified  \\\n",
       "1621                   NaN         NaT                   False   \n",
       "6266                   NaN         NaT                   False   \n",
       "12253                  NaN         NaT                   False   \n",
       "\n",
       "       N.of.Host.Verifications  Number.of.Reviews  Availability.30  \\\n",
       "1621                         1                  0                0   \n",
       "6266                         1                  0                0   \n",
       "12253                        1                  0                0   \n",
       "\n",
       "       Availability.60  Availability.90  Availability.365  \\\n",
       "1621                 0                0                 0   \n",
       "6266                 0                0                 0   \n",
       "12253                0                0                 0   \n",
       "\n",
       "       Days.from.Cal.Update  \n",
       "1621                    600  \n",
       "6266                    660  \n",
       "12253                   540  "
      ]
     },
     "execution_count": 45,
     "metadata": {},
     "output_type": "execute_result"
    }
   ],
   "source": [
    "#check the null values in 'Host.Listings.Count'\n",
    "df_listings.loc[df_listings['Host.Listings.Count'].isna(), ['Host.ID', 'Host.Name', 'Host.Response.Time', 'Host.Response.Rate',\n",
    "                'Host.Listings.Count', 'Host.Tenure', 'Host Identity Verified', 'N.of.Host.Verifications',\n",
    "                'Number.of.Reviews', 'Availability.30','Availability.60', 'Availability.90',\n",
    "                'Availability.365', 'Days.from.Cal.Update']]"
   ]
  },
  {
   "cell_type": "markdown",
   "metadata": {},
   "source": [
    "There are only 3 null values in 'Host.Listings.Count' column. The host information for these observations is missing altogether.\n",
    "The host probably deleted their account, or their identity wasn't verified. Let's drop these 3 observations."
   ]
  },
  {
   "cell_type": "code",
   "execution_count": 46,
   "metadata": {},
   "outputs": [],
   "source": [
    "df_listings.drop(df_listings[df_listings['Host.Listings.Count'].isna()].index, axis=0, inplace=True)"
   ]
  },
  {
   "cell_type": "markdown",
   "metadata": {},
   "source": [
    "Maximum and Minimum Nights are an important indicator of host's approach to short-term and long-term renting."
   ]
  },
  {
   "cell_type": "code",
   "execution_count": 47,
   "metadata": {},
   "outputs": [
    {
     "data": {
      "text/plain": [
       "0.01     1.0\n",
       "0.25     1.0\n",
       "0.50     2.0\n",
       "0.75     3.0\n",
       "0.90     4.0\n",
       "0.95     7.0\n",
       "0.99    25.0\n",
       "Name: Minimum.Nights, dtype: float64"
      ]
     },
     "execution_count": 47,
     "metadata": {},
     "output_type": "execute_result"
    }
   ],
   "source": [
    "df_listings['Minimum.Nights'].quantile([0.01, 0.25, 0.5, 0.75, 0.9, 0.95, 0.99])"
   ]
  },
  {
   "cell_type": "code",
   "execution_count": 48,
   "metadata": {},
   "outputs": [
    {
     "data": {
      "image/png": "[encoded data removed]",
      "text/plain": [
       "<Figure size 432x288 with 1 Axes>"
      ]
     },
     "metadata": {
      "needs_background": "light"
     },
     "output_type": "display_data"
    }
   ],
   "source": [
    "mask_nights = df_listings['Minimum.Nights'] <= 25\n",
    "sns.boxplot(data=df_listings[mask_nights], x='Minimum.Nights')\n",
    "plt.show()"
   ]
  },
  {
   "cell_type": "markdown",
   "metadata": {},
   "source": [
    "There are some clear **outliers** in this column. Although 99% of data is under 25 nights, excluding these outliers might not be a good idea at this point because they can indicate listings that target exclusively long-term rental."
   ]
  },
  {
   "cell_type": "code",
   "execution_count": 49,
   "metadata": {},
   "outputs": [
    {
     "data": {
      "text/plain": [
       "count      13307.000000\n",
       "mean         959.706846\n",
       "std         8892.446022\n",
       "min            1.000000\n",
       "25%          365.000000\n",
       "50%         1125.000000\n",
       "75%         1125.000000\n",
       "max      1000000.000000\n",
       "Name: Maximum.Nights, dtype: float64"
      ]
     },
     "execution_count": 49,
     "metadata": {},
     "output_type": "execute_result"
    }
   ],
   "source": [
    "df_listings['Maximum.Nights'].describe()"
   ]
  },
  {
   "cell_type": "code",
   "execution_count": 50,
   "metadata": {},
   "outputs": [
    {
     "data": {
      "text/plain": [
       "0.01       3.0\n",
       "0.25     365.0\n",
       "0.50    1125.0\n",
       "0.75    1125.0\n",
       "0.90    1125.0\n",
       "0.95    1125.0\n",
       "0.99    1125.0\n",
       "Name: Maximum.Nights, dtype: float64"
      ]
     },
     "execution_count": 50,
     "metadata": {},
     "output_type": "execute_result"
    }
   ],
   "source": [
    "df_listings['Maximum.Nights'].quantile([0.01, 0.25, 0.5, 0.75, 0.9, 0.95, 0.99])"
   ]
  },
  {
   "cell_type": "markdown",
   "metadata": {},
   "source": [
    "**Most hosts are not willing to limit maximum booking time. However, the maximum of 1000.000 days, or 2740 years seems to be a bit extreme.**"
   ]
  },
  {
   "cell_type": "code",
   "execution_count": 51,
   "metadata": {},
   "outputs": [],
   "source": [
    "#calculate the 1.5 interquartile range to filter out unrealistic upper outliers\n",
    "iqr_metric = (df_listings['Maximum.Nights'].quantile(0.75) -  df_listings['Maximum.Nights'].quantile(0.25)) * 1.5\n",
    "upper_limit = df_listings['Maximum.Nights'].quantile(0.75) + iqr_metric"
   ]
  },
  {
   "cell_type": "code",
   "execution_count": 52,
   "metadata": {},
   "outputs": [
    {
     "data": {
      "image/png": "[encoded data removed]",
      "text/plain": [
       "<Figure size 432x288 with 1 Axes>"
      ]
     },
     "metadata": {
      "needs_background": "light"
     },
     "output_type": "display_data"
    }
   ],
   "source": [
    "mask_nights = df_listings['Maximum.Nights'] <= upper_limit\n",
    "sns.boxplot(data=df_listings[mask_nights], x='Maximum.Nights')\n",
    "plt.show()"
   ]
  },
  {
   "cell_type": "markdown",
   "metadata": {},
   "source": [
    "Setting the upper outliers to the upper limit of 2265 days, or roughly 6 years should be enough to indicate the long-term approach of the host."
   ]
  },
  {
   "cell_type": "code",
   "execution_count": 53,
   "metadata": {},
   "outputs": [],
   "source": [
    "df_listings.loc[df_listings['Maximum.Nights'] > upper_limit, 'Maximum.Nights'] = 2265"
   ]
  },
  {
   "cell_type": "markdown",
   "metadata": {},
   "source": [
    "There are 3 columns for price, two of them with a lot of null values. How could we transform or impute them?"
   ]
  },
  {
   "cell_type": "code",
   "execution_count": 54,
   "metadata": {},
   "outputs": [
    {
     "data": {
      "text/plain": [
       "Price               0\n",
       "Weekly.Price     9946\n",
       "Monthly.Price    9987\n",
       "dtype: int64"
      ]
     },
     "execution_count": 54,
     "metadata": {},
     "output_type": "execute_result"
    }
   ],
   "source": [
    "df_listings[['Price', 'Weekly.Price', 'Monthly.Price']].isna().sum()"
   ]
  },
  {
   "cell_type": "markdown",
   "metadata": {},
   "source": [
    "Assuming that the weekly price and monthly price are indicated only if there is a special discount we can convert these columns to boolean values to se if there is a discount or not."
   ]
  },
  {
   "cell_type": "code",
   "execution_count": 55,
   "metadata": {},
   "outputs": [],
   "source": [
    "df_listings['Weekly.Price'] = df_listings['Weekly.Price'].isna()"
   ]
  },
  {
   "cell_type": "code",
   "execution_count": 56,
   "metadata": {},
   "outputs": [],
   "source": [
    "df_listings['Monthly.Price'] = df_listings['Monthly.Price'].isna()"
   ]
  },
  {
   "cell_type": "code",
   "execution_count": 57,
   "metadata": {},
   "outputs": [
    {
     "data": {
      "text/plain": [
       "True     9946\n",
       "False    3361\n",
       "Name: Weekly.Price, dtype: int64"
      ]
     },
     "execution_count": 57,
     "metadata": {},
     "output_type": "execute_result"
    }
   ],
   "source": [
    "df_listings['Weekly.Price'].value_counts()"
   ]
  },
  {
   "cell_type": "code",
   "execution_count": 58,
   "metadata": {},
   "outputs": [
    {
     "data": {
      "text/plain": [
       "True     9987\n",
       "False    3320\n",
       "Name: Monthly.Price, dtype: int64"
      ]
     },
     "execution_count": 58,
     "metadata": {},
     "output_type": "execute_result"
    }
   ],
   "source": [
    "df_listings['Monthly.Price'].value_counts()"
   ]
  },
  {
   "cell_type": "markdown",
   "metadata": {},
   "source": [
    "There are a lot of null values in Security.Deposit and Cleaning.Fee columns. Can they be imputed with zeros or there is another explatation for these nulls?"
   ]
  },
  {
   "cell_type": "code",
   "execution_count": 59,
   "metadata": {},
   "outputs": [],
   "source": [
    "#prepare a subset for visualization\n",
    "for_viz = df_listings[['Room.Type', 'Security.Deposit', 'Cleaning.Fee']]\n",
    "for_viz['Deposit'] = for_viz['Security.Deposit'].isna()\n",
    "for_viz['Cleaning'] = for_viz['Cleaning.Fee'].isna()\n",
    "for_viz.drop(['Security.Deposit', 'Cleaning.Fee'], axis=1, inplace=True)"
   ]
  },
  {
   "cell_type": "code",
   "execution_count": 60,
   "metadata": {},
   "outputs": [
    {
     "data": {
      "image/png": "[encoded data removed]",
      "text/plain": [
       "<Figure size 432x288 with 1 Axes>"
      ]
     },
     "metadata": {
      "needs_background": "light"
     },
     "output_type": "display_data"
    }
   ],
   "source": [
    "sns.barplot(data=for_viz, x='Room.Type', y='Cleaning')\n",
    "plt.title('Room types that do not have Cleaning fee')\n",
    "plt.show()"
   ]
  },
  {
   "cell_type": "code",
   "execution_count": 61,
   "metadata": {},
   "outputs": [
    {
     "data": {
      "image/png": "[encoded data removed]",
      "text/plain": [
       "<Figure size 432x288 with 1 Axes>"
      ]
     },
     "metadata": {
      "needs_background": "light"
     },
     "output_type": "display_data"
    }
   ],
   "source": [
    "sns.barplot(data=for_viz, x='Room.Type', y='Deposit')\n",
    "plt.title('Room types that do not have deposit fee')\n",
    "plt.show()"
   ]
  },
  {
   "cell_type": "code",
   "execution_count": 62,
   "metadata": {},
   "outputs": [
    {
     "data": {
      "image/png": "[encoded data removed]",
      "text/plain": [
       "<Figure size 432x288 with 1 Axes>"
      ]
     },
     "metadata": {
      "needs_background": "light"
     },
     "output_type": "display_data"
    }
   ],
   "source": [
    "sns.barplot(data=df_listings, x='Room.Type', y='ID')\n",
    "plt.title('Room types in the dataset')\n",
    "plt.show()"
   ]
  },
  {
   "cell_type": "markdown",
   "metadata": {},
   "source": [
    "The proportion of Entire home type is less in groups that have no cleaning fee or no deposit than in the general dataset. The Private Room and Shared Room types are more likely to have null values for Cleaning fee and Deposit fee.\n",
    "Given that some Airbnb listing come without these fees, the nulls could be explained by zero fees."
   ]
  },
  {
   "cell_type": "code",
   "execution_count": 63,
   "metadata": {},
   "outputs": [],
   "source": [
    "#impute null values with zeros\n",
    "df_listings['Security.Deposit'].fillna(0, inplace=True)\n",
    "df_listings['Cleaning.Fee'].fillna(0, inplace=True)"
   ]
  },
  {
   "cell_type": "markdown",
   "metadata": {},
   "source": [
    "Let's check the quality of listings' Availability columns."
   ]
  },
  {
   "cell_type": "code",
   "execution_count": 64,
   "metadata": {},
   "outputs": [
    {
     "data": {
      "text/html": [
       "<div>\n",
       "<style scoped>\n",
       "    .dataframe tbody tr th:only-of-type {\n",
       "        vertical-align: middle;\n",
       "    }\n",
       "\n",
       "    .dataframe tbody tr th {\n",
       "        vertical-align: top;\n",
       "    }\n",
       "\n",
       "    .dataframe thead th {\n",
       "        text-align: right;\n",
       "    }\n",
       "</style>\n",
       "<table border=\"1\" class=\"dataframe\">\n",
       "  <thead>\n",
       "    <tr style=\"text-align: right;\">\n",
       "      <th></th>\n",
       "      <th>Availability.30</th>\n",
       "      <th>Availability.60</th>\n",
       "      <th>Availability.90</th>\n",
       "      <th>Availability.365</th>\n",
       "    </tr>\n",
       "  </thead>\n",
       "  <tbody>\n",
       "    <tr>\n",
       "      <th>count</th>\n",
       "      <td>13307.000000</td>\n",
       "      <td>13307.000000</td>\n",
       "      <td>13307.000000</td>\n",
       "      <td>13307.000000</td>\n",
       "    </tr>\n",
       "    <tr>\n",
       "      <th>mean</th>\n",
       "      <td>8.812054</td>\n",
       "      <td>23.045314</td>\n",
       "      <td>40.266551</td>\n",
       "      <td>205.822875</td>\n",
       "    </tr>\n",
       "    <tr>\n",
       "      <th>std</th>\n",
       "      <td>9.132634</td>\n",
       "      <td>19.558723</td>\n",
       "      <td>29.390644</td>\n",
       "      <td>126.901756</td>\n",
       "    </tr>\n",
       "    <tr>\n",
       "      <th>min</th>\n",
       "      <td>0.000000</td>\n",
       "      <td>0.000000</td>\n",
       "      <td>0.000000</td>\n",
       "      <td>0.000000</td>\n",
       "    </tr>\n",
       "    <tr>\n",
       "      <th>25%</th>\n",
       "      <td>0.000000</td>\n",
       "      <td>5.000000</td>\n",
       "      <td>13.000000</td>\n",
       "      <td>84.000000</td>\n",
       "    </tr>\n",
       "    <tr>\n",
       "      <th>50%</th>\n",
       "      <td>6.000000</td>\n",
       "      <td>20.000000</td>\n",
       "      <td>38.000000</td>\n",
       "      <td>247.000000</td>\n",
       "    </tr>\n",
       "    <tr>\n",
       "      <th>75%</th>\n",
       "      <td>14.000000</td>\n",
       "      <td>38.000000</td>\n",
       "      <td>65.000000</td>\n",
       "      <td>321.000000</td>\n",
       "    </tr>\n",
       "    <tr>\n",
       "      <th>max</th>\n",
       "      <td>30.000000</td>\n",
       "      <td>60.000000</td>\n",
       "      <td>90.000000</td>\n",
       "      <td>365.000000</td>\n",
       "    </tr>\n",
       "  </tbody>\n",
       "</table>\n",
       "</div>"
      ],
      "text/plain": [
       "       Availability.30  Availability.60  Availability.90  Availability.365\n",
       "count     13307.000000     13307.000000     13307.000000      13307.000000\n",
       "mean          8.812054        23.045314        40.266551        205.822875\n",
       "std           9.132634        19.558723        29.390644        126.901756\n",
       "min           0.000000         0.000000         0.000000          0.000000\n",
       "25%           0.000000         5.000000        13.000000         84.000000\n",
       "50%           6.000000        20.000000        38.000000        247.000000\n",
       "75%          14.000000        38.000000        65.000000        321.000000\n",
       "max          30.000000        60.000000        90.000000        365.000000"
      ]
     },
     "execution_count": 64,
     "metadata": {},
     "output_type": "execute_result"
    }
   ],
   "source": [
    "df_listings[['Availability.30', 'Availability.60', 'Availability.90', 'Availability.365']].describe()"
   ]
  },
  {
   "cell_type": "code",
   "execution_count": 65,
   "metadata": {},
   "outputs": [
    {
     "data": {
      "image/png": "[encoded data removed]",
      "text/plain": [
       "<Figure size 432x288 with 1 Axes>"
      ]
     },
     "metadata": {
      "needs_background": "light"
     },
     "output_type": "display_data"
    }
   ],
   "source": [
    "sns.boxplot(data=df_listings, y='Availability.30', x='Room.Type')\n",
    "plt.show()"
   ]
  },
  {
   "cell_type": "code",
   "execution_count": 66,
   "metadata": {},
   "outputs": [
    {
     "data": {
      "image/png": "[encoded data removed]",
      "text/plain": [
       "<Figure size 432x288 with 1 Axes>"
      ]
     },
     "metadata": {
      "needs_background": "light"
     },
     "output_type": "display_data"
    }
   ],
   "source": [
    "sns.boxplot(data=df_listings, y='Availability.60', x='Room.Type')\n",
    "plt.show()"
   ]
  },
  {
   "cell_type": "code",
   "execution_count": 67,
   "metadata": {},
   "outputs": [
    {
     "data": {
      "image/png": "[encoded data removed]",
      "text/plain": [
       "<Figure size 432x288 with 1 Axes>"
      ]
     },
     "metadata": {
      "needs_background": "light"
     },
     "output_type": "display_data"
    }
   ],
   "source": [
    "sns.boxplot(data=df_listings, y='Availability.90', x='Room.Type')\n",
    "plt.show()"
   ]
  },
  {
   "cell_type": "code",
   "execution_count": 68,
   "metadata": {},
   "outputs": [
    {
     "data": {
      "image/png": "[encoded data removed]",
      "text/plain": [
       "<Figure size 432x288 with 1 Axes>"
      ]
     },
     "metadata": {
      "needs_background": "light"
     },
     "output_type": "display_data"
    }
   ],
   "source": [
    "sns.boxplot(data=df_listings, y='Availability.365', x='Room.Type')\n",
    "plt.show()"
   ]
  },
  {
   "cell_type": "markdown",
   "metadata": {},
   "source": [
    "Although there are no significant outliers or null values, these columns would be more informative if converted to percentage of nights available per every period. Thus they could be compared more easily."
   ]
  },
  {
   "cell_type": "code",
   "execution_count": 69,
   "metadata": {},
   "outputs": [],
   "source": [
    "#convert days available to percentages\n",
    "df_listings['Availability.30.Perc'] = round((df_listings['Availability.30'] / 30) * 100,2)\n",
    "df_listings['Availability.60.Perc'] = round((df_listings['Availability.60'] / 60) * 100,2)\n",
    "df_listings['Availability.90.Perc'] = round((df_listings['Availability.90'] / 90) * 100,2)\n",
    "df_listings['Availability.365.Perc'] = round((df_listings['Availability.365'] / 365) * 100,2)"
   ]
  },
  {
   "cell_type": "code",
   "execution_count": 70,
   "metadata": {},
   "outputs": [
    {
     "data": {
      "text/html": [
       "<div>\n",
       "<style scoped>\n",
       "    .dataframe tbody tr th:only-of-type {\n",
       "        vertical-align: middle;\n",
       "    }\n",
       "\n",
       "    .dataframe tbody tr th {\n",
       "        vertical-align: top;\n",
       "    }\n",
       "\n",
       "    .dataframe thead th {\n",
       "        text-align: right;\n",
       "    }\n",
       "</style>\n",
       "<table border=\"1\" class=\"dataframe\">\n",
       "  <thead>\n",
       "    <tr style=\"text-align: right;\">\n",
       "      <th></th>\n",
       "      <th>Availability.30</th>\n",
       "      <th>Availability.60</th>\n",
       "      <th>Availability.90</th>\n",
       "      <th>Availability.365</th>\n",
       "      <th>Availability.30.Perc</th>\n",
       "      <th>Availability.60.Perc</th>\n",
       "      <th>Availability.90.Perc</th>\n",
       "      <th>Availability.365.Perc</th>\n",
       "    </tr>\n",
       "  </thead>\n",
       "  <tbody>\n",
       "    <tr>\n",
       "      <th>0</th>\n",
       "      <td>1</td>\n",
       "      <td>1</td>\n",
       "      <td>1</td>\n",
       "      <td>1</td>\n",
       "      <td>3.33</td>\n",
       "      <td>1.67</td>\n",
       "      <td>1.11</td>\n",
       "      <td>0.27</td>\n",
       "    </tr>\n",
       "    <tr>\n",
       "      <th>1</th>\n",
       "      <td>12</td>\n",
       "      <td>32</td>\n",
       "      <td>45</td>\n",
       "      <td>320</td>\n",
       "      <td>40.00</td>\n",
       "      <td>53.33</td>\n",
       "      <td>50.00</td>\n",
       "      <td>87.67</td>\n",
       "    </tr>\n",
       "    <tr>\n",
       "      <th>2</th>\n",
       "      <td>7</td>\n",
       "      <td>37</td>\n",
       "      <td>67</td>\n",
       "      <td>158</td>\n",
       "      <td>23.33</td>\n",
       "      <td>61.67</td>\n",
       "      <td>74.44</td>\n",
       "      <td>43.29</td>\n",
       "    </tr>\n",
       "    <tr>\n",
       "      <th>3</th>\n",
       "      <td>7</td>\n",
       "      <td>13</td>\n",
       "      <td>21</td>\n",
       "      <td>248</td>\n",
       "      <td>23.33</td>\n",
       "      <td>21.67</td>\n",
       "      <td>23.33</td>\n",
       "      <td>67.95</td>\n",
       "    </tr>\n",
       "    <tr>\n",
       "      <th>4</th>\n",
       "      <td>6</td>\n",
       "      <td>20</td>\n",
       "      <td>24</td>\n",
       "      <td>296</td>\n",
       "      <td>20.00</td>\n",
       "      <td>33.33</td>\n",
       "      <td>26.67</td>\n",
       "      <td>81.10</td>\n",
       "    </tr>\n",
       "  </tbody>\n",
       "</table>\n",
       "</div>"
      ],
      "text/plain": [
       "   Availability.30  Availability.60  Availability.90  Availability.365  \\\n",
       "0                1                1                1                 1   \n",
       "1               12               32               45               320   \n",
       "2                7               37               67               158   \n",
       "3                7               13               21               248   \n",
       "4                6               20               24               296   \n",
       "\n",
       "   Availability.30.Perc  Availability.60.Perc  Availability.90.Perc  \\\n",
       "0                  3.33                  1.67                  1.11   \n",
       "1                 40.00                 53.33                 50.00   \n",
       "2                 23.33                 61.67                 74.44   \n",
       "3                 23.33                 21.67                 23.33   \n",
       "4                 20.00                 33.33                 26.67   \n",
       "\n",
       "   Availability.365.Perc  \n",
       "0                   0.27  \n",
       "1                  87.67  \n",
       "2                  43.29  \n",
       "3                  67.95  \n",
       "4                  81.10  "
      ]
     },
     "execution_count": 70,
     "metadata": {},
     "output_type": "execute_result"
    }
   ],
   "source": [
    "df_listings.filter(like='Availability').head()"
   ]
  },
  {
   "cell_type": "code",
   "execution_count": 71,
   "metadata": {},
   "outputs": [],
   "source": [
    "#drop the original columns\n",
    "df_listings.drop(['Availability.30', 'Availability.60', 'Availability.90', 'Availability.365'], axis=1, inplace=True)"
   ]
  },
  {
   "cell_type": "markdown",
   "metadata": {},
   "source": [
    "There are some missing values relative to number of Bedrooms, Bathrooms and Beds. Could they be explained by cheaper accomodation with no bedroom (a studio), bed (a sofa instead)?"
   ]
  },
  {
   "cell_type": "code",
   "execution_count": 72,
   "metadata": {},
   "outputs": [
    {
     "data": {
      "text/plain": [
       "52.0"
      ]
     },
     "execution_count": 72,
     "metadata": {},
     "output_type": "execute_result"
    }
   ],
   "source": [
    "df_listings.Price.median()"
   ]
  },
  {
   "cell_type": "code",
   "execution_count": 73,
   "metadata": {},
   "outputs": [
    {
     "data": {
      "text/plain": [
       "52.5"
      ]
     },
     "execution_count": 73,
     "metadata": {},
     "output_type": "execute_result"
    }
   ],
   "source": [
    "df_listings.loc[df_listings['Bathrooms'].isna(),'Price'].median()"
   ]
  },
  {
   "cell_type": "code",
   "execution_count": 74,
   "metadata": {},
   "outputs": [
    {
     "data": {
      "text/plain": [
       "40.0"
      ]
     },
     "execution_count": 74,
     "metadata": {},
     "output_type": "execute_result"
    }
   ],
   "source": [
    "df_listings.loc[df_listings['Beds'].isna(),'Price'].median()"
   ]
  },
  {
   "cell_type": "code",
   "execution_count": 75,
   "metadata": {},
   "outputs": [
    {
     "data": {
      "text/plain": [
       "35.0"
      ]
     },
     "execution_count": 75,
     "metadata": {},
     "output_type": "execute_result"
    }
   ],
   "source": [
    "df_listings.loc[df_listings['Bedrooms'].isna(),'Price'].median()"
   ]
  },
  {
   "cell_type": "markdown",
   "metadata": {},
   "source": [
    "It might be the case for Beds and Bedrooms, but not in case for Bathrooms. However, the pattern isn't clear enough to impute these values."
   ]
  },
  {
   "cell_type": "markdown",
   "metadata": {},
   "source": [
    "#### Reviews"
   ]
  },
  {
   "cell_type": "code",
   "execution_count": 76,
   "metadata": {},
   "outputs": [
    {
     "name": "stdout",
     "output_type": "stream",
     "text": [
      "Unique values for Review.Scores.Rating: 54, minimum value: 20.0, maximum value: 100.0\n",
      "Unique values for Review.Scores.Accuracy: 9, minimum value: 2.0, maximum value: 10.0\n",
      "Unique values for Review.Scores.Cleanliness: 9, minimum value: 2.0, maximum value: 10.0\n",
      "Unique values for Review.Scores.Checkin: 9, minimum value: 2.0, maximum value: 10.0\n",
      "Unique values for Review.Scores.Communication: 8, minimum value: 2.0, maximum value: 10.0\n",
      "Unique values for Review.Scores.Location: 8, minimum value: 2.0, maximum value: 10.0\n",
      "Unique values for Review.Scores.Value: 9, minimum value: 2.0, maximum value: 10.0\n"
     ]
    }
   ],
   "source": [
    "for i in list(df_listings.filter(like='Review.Scores')):\n",
    "    print(f'Unique values for {i}: {df_listings[i].nunique()}, minimum value: {df_listings[i].min()}, maximum value: {df_listings[i].max()}')"
   ]
  },
  {
   "cell_type": "markdown",
   "metadata": {},
   "source": [
    "The Review.Scores.Rating has values from 20 to 100, while all other Review.Score columns use a 10 point scale.\n",
    "\n",
    "Let's have a look at their distributions."
   ]
  },
  {
   "cell_type": "code",
   "execution_count": 77,
   "metadata": {},
   "outputs": [
    {
     "data": {
      "image/png": "[encoded data removed]",
      "text/plain": [
       "<Figure size 432x288 with 1 Axes>"
      ]
     },
     "metadata": {
      "needs_background": "light"
     },
     "output_type": "display_data"
    },
    {
     "data": {
      "image/png": "[encoded data removed]",
      "text/plain": [
       "<Figure size 432x288 with 1 Axes>"
      ]
     },
     "metadata": {
      "needs_background": "light"
     },
     "output_type": "display_data"
    },
    {
     "data": {
      "image/png": "[encoded data removed]",
      "text/plain": [
       "<Figure size 432x288 with 1 Axes>"
      ]
     },
     "metadata": {
      "needs_background": "light"
     },
     "output_type": "display_data"
    },
    {
     "data": {
      "image/png": "[encoded data removed]",
      "text/plain": [
       "<Figure size 432x288 with 1 Axes>"
      ]
     },
     "metadata": {
      "needs_background": "light"
     },
     "output_type": "display_data"
    },
    {
     "data": {
      "image/png": "[encoded data removed]",
      "text/plain": [
       "<Figure size 432x288 with 1 Axes>"
      ]
     },
     "metadata": {
      "needs_background": "light"
     },
     "output_type": "display_data"
    },
    {
     "data": {
      "image/png": "[encoded data removed]",
      "text/plain": [
       "<Figure size 432x288 with 1 Axes>"
      ]
     },
     "metadata": {
      "needs_background": "light"
     },
     "output_type": "display_data"
    },
    {
     "data": {
      "image/png": "[encoded data removed]",
      "text/plain": [
       "<Figure size 432x288 with 1 Axes>"
      ]
     },
     "metadata": {
      "needs_background": "light"
     },
     "output_type": "display_data"
    }
   ],
   "source": [
    "for i in list(df_listings.filter(like='Review.Scores')):\n",
    "    sns.histplot(data=df_listings, x=i)\n",
    "    plt.title(i)\n",
    "    plt.show()"
   ]
  },
  {
   "cell_type": "code",
   "execution_count": 78,
   "metadata": {},
   "outputs": [
    {
     "data": {
      "text/plain": [
       "Number.of.Reviews                 0\n",
       "Review.Scores.Rating           2895\n",
       "Review.Scores.Accuracy         2913\n",
       "Review.Scores.Cleanliness      2907\n",
       "Review.Scores.Checkin          2923\n",
       "Review.Scores.Communication    2907\n",
       "Review.Scores.Location         2925\n",
       "Review.Scores.Value            2925\n",
       "Reviews.per.Month              2770\n",
       "dtype: int64"
      ]
     },
     "execution_count": 78,
     "metadata": {},
     "output_type": "execute_result"
    }
   ],
   "source": [
    "df_listings.filter(like='Review').isna().sum()"
   ]
  },
  {
   "cell_type": "markdown",
   "metadata": {},
   "source": [
    "There is roughly the same number of null values for all score-related columns. Cound it be explained by absence of reviews?"
   ]
  },
  {
   "cell_type": "code",
   "execution_count": 79,
   "metadata": {},
   "outputs": [
    {
     "data": {
      "text/plain": [
       "Number.of.Reviews                 0\n",
       "Review.Scores.Rating           2770\n",
       "Review.Scores.Accuracy         2770\n",
       "Review.Scores.Cleanliness      2770\n",
       "Review.Scores.Checkin          2770\n",
       "Review.Scores.Communication    2770\n",
       "Review.Scores.Location         2770\n",
       "Review.Scores.Value            2770\n",
       "Reviews.per.Month              2770\n",
       "dtype: int64"
      ]
     },
     "execution_count": 79,
     "metadata": {},
     "output_type": "execute_result"
    }
   ],
   "source": [
    "df_listings.loc[df_listings['Number.of.Reviews'] == 0, list(df_listings.filter(like='Review'))].isna().sum()"
   ]
  },
  {
   "cell_type": "markdown",
   "metadata": {},
   "source": [
    "A total of 2776 null values can be explained by the absence of reviews and imputing them would distort the analysis."
   ]
  },
  {
   "cell_type": "code",
   "execution_count": 80,
   "metadata": {},
   "outputs": [
    {
     "data": {
      "text/plain": [
       "(13307, 78)"
      ]
     },
     "execution_count": 80,
     "metadata": {},
     "output_type": "execute_result"
    }
   ],
   "source": [
    "df_listings.shape"
   ]
  },
  {
   "cell_type": "code",
   "execution_count": 81,
   "metadata": {},
   "outputs": [],
   "source": [
    "df_listings.to_csv('airbnb_ready.csv', sep=\";\")"
   ]
  }
 ],
 "metadata": {
  "kernelspec": {
   "display_name": "Python 3",
   "language": "python",
   "name": "python3"
  },
  "language_info": {
   "codemirror_mode": {
    "name": "ipython",
    "version": 3
   },
   "file_extension": ".py",
   "mimetype": "text/x-python",
   "name": "python",
   "nbconvert_exporter": "python",
   "pygments_lexer": "ipython3",
   "version": "3.8.5"
  },
  "vscode": {
   "interpreter": {
    "hash": "d7cc16995a8fce83e779144ff264c97a7e4fb5d0820c16e2e77e6e63ffde06ae"
   }
  }
 },
 "nbformat": 4,
 "nbformat_minor": 4
}
